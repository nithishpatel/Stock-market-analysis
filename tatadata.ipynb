{
  "nbformat": 4,
  "nbformat_minor": 0,
  "metadata": {
    "colab": {
      "name": "tatadata.ipynb",
      "provenance": [],
      "authorship_tag": "ABX9TyNbuoOKhGMSktsD0UnENNjQ",
      "include_colab_link": true
    },
    "kernelspec": {
      "name": "python3",
      "display_name": "Python 3"
    },
    "language_info": {
      "name": "python"
    }
  },
  "cells": [
    {
      "cell_type": "markdown",
      "metadata": {
        "id": "view-in-github",
        "colab_type": "text"
      },
      "source": [
        "<a href=\"https://colab.research.google.com/github/nithishpatel/Stock-market-analysis/blob/main/tatadata.ipynb\" target=\"_parent\"><img src=\"https://colab.research.google.com/assets/colab-badge.svg\" alt=\"Open In Colab\"/></a>"
      ]
    },
    {
      "cell_type": "code",
      "metadata": {
        "id": "CSsH6M4gKrzT"
      },
      "source": [
        "import numpy as np\n",
        "import pandas as pd\n",
        "import matplotlib.pyplot as plt\n",
        "from sklearn.model_selection import train_test_split\n",
        "from sklearn.ensemble import RandomForestClassifier\n",
        "from sklearn.preprocessing import LabelEncoder\n",
        "import datetime as dt\n",
        "from math import acos,degrees\n",
        "from sklearn.metrics import classification_report,confusion_matrix,accuracy_score"
      ],
      "execution_count": 279,
      "outputs": []
    },
    {
      "cell_type": "code",
      "metadata": {
        "id": "cVLuNP6lK5ph"
      },
      "source": [
        "df= pd.read_csv('tata.csv',encoding = \"ISO-8859-1\")"
      ],
      "execution_count": 280,
      "outputs": []
    },
    {
      "cell_type": "code",
      "metadata": {
        "colab": {
          "base_uri": "https://localhost:8080/",
          "height": 203
        },
        "id": "7GCNdWIJK-Mu",
        "outputId": "3fa0a059-799e-49d4-a632-791c92cba465"
      },
      "source": [
        "df.head()"
      ],
      "execution_count": 281,
      "outputs": [
        {
          "output_type": "execute_result",
          "data": {
            "text/html": [
              "<div>\n",
              "<style scoped>\n",
              "    .dataframe tbody tr th:only-of-type {\n",
              "        vertical-align: middle;\n",
              "    }\n",
              "\n",
              "    .dataframe tbody tr th {\n",
              "        vertical-align: top;\n",
              "    }\n",
              "\n",
              "    .dataframe thead th {\n",
              "        text-align: right;\n",
              "    }\n",
              "</style>\n",
              "<table border=\"1\" class=\"dataframe\">\n",
              "  <thead>\n",
              "    <tr style=\"text-align: right;\">\n",
              "      <th></th>\n",
              "      <th>scrip</th>\n",
              "      <th>date</th>\n",
              "      <th>time</th>\n",
              "      <th>Open</th>\n",
              "      <th>High</th>\n",
              "      <th>Low</th>\n",
              "      <th>Close</th>\n",
              "      <th>Volume</th>\n",
              "      <th>Unnamed: 8</th>\n",
              "    </tr>\n",
              "  </thead>\n",
              "  <tbody>\n",
              "    <tr>\n",
              "      <th>0</th>\n",
              "      <td>TATASTEEL</td>\n",
              "      <td>24-06-2013</td>\n",
              "      <td>9:20</td>\n",
              "      <td>270.30</td>\n",
              "      <td>270.40</td>\n",
              "      <td>270.10</td>\n",
              "      <td>270.20</td>\n",
              "      <td>30794</td>\n",
              "      <td>NaN</td>\n",
              "    </tr>\n",
              "    <tr>\n",
              "      <th>1</th>\n",
              "      <td>TATASTEEL</td>\n",
              "      <td>24-06-2013</td>\n",
              "      <td>9:21</td>\n",
              "      <td>270.10</td>\n",
              "      <td>270.30</td>\n",
              "      <td>270.05</td>\n",
              "      <td>270.25</td>\n",
              "      <td>31049</td>\n",
              "      <td>NaN</td>\n",
              "    </tr>\n",
              "    <tr>\n",
              "      <th>2</th>\n",
              "      <td>TATASTEEL</td>\n",
              "      <td>24-06-2013</td>\n",
              "      <td>9:22</td>\n",
              "      <td>270.25</td>\n",
              "      <td>270.85</td>\n",
              "      <td>270.25</td>\n",
              "      <td>270.65</td>\n",
              "      <td>15813</td>\n",
              "      <td>NaN</td>\n",
              "    </tr>\n",
              "    <tr>\n",
              "      <th>3</th>\n",
              "      <td>TATASTEEL</td>\n",
              "      <td>24-06-2013</td>\n",
              "      <td>9:23</td>\n",
              "      <td>270.80</td>\n",
              "      <td>271.60</td>\n",
              "      <td>270.25</td>\n",
              "      <td>270.40</td>\n",
              "      <td>32092</td>\n",
              "      <td>NaN</td>\n",
              "    </tr>\n",
              "    <tr>\n",
              "      <th>4</th>\n",
              "      <td>TATASTEEL</td>\n",
              "      <td>24-06-2013</td>\n",
              "      <td>9:24</td>\n",
              "      <td>270.15</td>\n",
              "      <td>271.10</td>\n",
              "      <td>270.15</td>\n",
              "      <td>271.05</td>\n",
              "      <td>15286</td>\n",
              "      <td>NaN</td>\n",
              "    </tr>\n",
              "  </tbody>\n",
              "</table>\n",
              "</div>"
            ],
            "text/plain": [
              "       scrip        date  time    Open  ...     Low   Close  Volume  Unnamed: 8\n",
              "0  TATASTEEL  24-06-2013  9:20  270.30  ...  270.10  270.20   30794         NaN\n",
              "1  TATASTEEL  24-06-2013  9:21  270.10  ...  270.05  270.25   31049         NaN\n",
              "2  TATASTEEL  24-06-2013  9:22  270.25  ...  270.25  270.65   15813         NaN\n",
              "3  TATASTEEL  24-06-2013  9:23  270.80  ...  270.25  270.40   32092         NaN\n",
              "4  TATASTEEL  24-06-2013  9:24  270.15  ...  270.15  271.05   15286         NaN\n",
              "\n",
              "[5 rows x 9 columns]"
            ]
          },
          "metadata": {},
          "execution_count": 281
        }
      ]
    },
    {
      "cell_type": "code",
      "metadata": {
        "id": "awSOMcCaLFo5"
      },
      "source": [
        "df= df.iloc[::10,1:8]"
      ],
      "execution_count": 282,
      "outputs": []
    },
    {
      "cell_type": "code",
      "metadata": {
        "colab": {
          "base_uri": "https://localhost:8080/",
          "height": 203
        },
        "id": "9ONaN7VcMgrb",
        "outputId": "d438e70a-a991-4101-d381-aa70a773059c"
      },
      "source": [
        "df.head()"
      ],
      "execution_count": 283,
      "outputs": [
        {
          "output_type": "execute_result",
          "data": {
            "text/html": [
              "<div>\n",
              "<style scoped>\n",
              "    .dataframe tbody tr th:only-of-type {\n",
              "        vertical-align: middle;\n",
              "    }\n",
              "\n",
              "    .dataframe tbody tr th {\n",
              "        vertical-align: top;\n",
              "    }\n",
              "\n",
              "    .dataframe thead th {\n",
              "        text-align: right;\n",
              "    }\n",
              "</style>\n",
              "<table border=\"1\" class=\"dataframe\">\n",
              "  <thead>\n",
              "    <tr style=\"text-align: right;\">\n",
              "      <th></th>\n",
              "      <th>date</th>\n",
              "      <th>time</th>\n",
              "      <th>Open</th>\n",
              "      <th>High</th>\n",
              "      <th>Low</th>\n",
              "      <th>Close</th>\n",
              "      <th>Volume</th>\n",
              "    </tr>\n",
              "  </thead>\n",
              "  <tbody>\n",
              "    <tr>\n",
              "      <th>0</th>\n",
              "      <td>24-06-2013</td>\n",
              "      <td>9:20</td>\n",
              "      <td>270.30</td>\n",
              "      <td>270.4</td>\n",
              "      <td>270.10</td>\n",
              "      <td>270.2</td>\n",
              "      <td>30794</td>\n",
              "    </tr>\n",
              "    <tr>\n",
              "      <th>10</th>\n",
              "      <td>24-06-2013</td>\n",
              "      <td>9:30</td>\n",
              "      <td>271.95</td>\n",
              "      <td>272.6</td>\n",
              "      <td>271.90</td>\n",
              "      <td>272.5</td>\n",
              "      <td>32683</td>\n",
              "    </tr>\n",
              "    <tr>\n",
              "      <th>20</th>\n",
              "      <td>24-06-2013</td>\n",
              "      <td>9:40</td>\n",
              "      <td>272.25</td>\n",
              "      <td>272.7</td>\n",
              "      <td>272.25</td>\n",
              "      <td>272.6</td>\n",
              "      <td>11347</td>\n",
              "    </tr>\n",
              "    <tr>\n",
              "      <th>30</th>\n",
              "      <td>24-06-2013</td>\n",
              "      <td>9:50</td>\n",
              "      <td>274.35</td>\n",
              "      <td>274.6</td>\n",
              "      <td>273.75</td>\n",
              "      <td>273.9</td>\n",
              "      <td>24191</td>\n",
              "    </tr>\n",
              "    <tr>\n",
              "      <th>40</th>\n",
              "      <td>24-06-2013</td>\n",
              "      <td>10:00</td>\n",
              "      <td>273.50</td>\n",
              "      <td>273.7</td>\n",
              "      <td>273.40</td>\n",
              "      <td>273.5</td>\n",
              "      <td>7056</td>\n",
              "    </tr>\n",
              "  </tbody>\n",
              "</table>\n",
              "</div>"
            ],
            "text/plain": [
              "          date   time    Open   High     Low  Close  Volume\n",
              "0   24-06-2013   9:20  270.30  270.4  270.10  270.2   30794\n",
              "10  24-06-2013   9:30  271.95  272.6  271.90  272.5   32683\n",
              "20  24-06-2013   9:40  272.25  272.7  272.25  272.6   11347\n",
              "30  24-06-2013   9:50  274.35  274.6  273.75  273.9   24191\n",
              "40  24-06-2013  10:00  273.50  273.7  273.40  273.5    7056"
            ]
          },
          "metadata": {},
          "execution_count": 283
        }
      ]
    },
    {
      "cell_type": "code",
      "metadata": {
        "id": "Ixx2gPsMEl5R"
      },
      "source": [
        "avg1=df['Low']\n",
        "avg2=df['High']\n",
        "avg3=(avg1+avg2)/2\n",
        "avg=pd.DataFrame(avg3)\n",
        "df['Average']= avg.round(2)"
      ],
      "execution_count": 284,
      "outputs": []
    },
    {
      "cell_type": "code",
      "metadata": {
        "id": "6nenDeAjSNmQ"
      },
      "source": [
        "df=df.drop(['Open','High','Low', 'Close'], axis=1)"
      ],
      "execution_count": 285,
      "outputs": []
    },
    {
      "cell_type": "code",
      "metadata": {
        "id": "54rEsCAwFDuA"
      },
      "source": [
        "vol=df['Volume']\n",
        "vol=vol.values"
      ],
      "execution_count": 286,
      "outputs": []
    },
    {
      "cell_type": "code",
      "metadata": {
        "id": "yVLWR8NLYtQS"
      },
      "source": [
        "dates=pd.DataFrame(df['date'])"
      ],
      "execution_count": 287,
      "outputs": []
    },
    {
      "cell_type": "code",
      "metadata": {
        "id": "3ONETQwBY21G"
      },
      "source": [
        "dates=dates.values"
      ],
      "execution_count": 288,
      "outputs": []
    },
    {
      "cell_type": "code",
      "metadata": {
        "id": "KPRpK-mTD9zo"
      },
      "source": [
        "x= df.values"
      ],
      "execution_count": 289,
      "outputs": []
    },
    {
      "cell_type": "code",
      "metadata": {
        "id": "HM3gWIpvckAD"
      },
      "source": [
        "h=df['date'].unique()"
      ],
      "execution_count": 290,
      "outputs": []
    },
    {
      "cell_type": "code",
      "metadata": {
        "id": "TBQerLAVdiDD"
      },
      "source": [
        "unidays=pd.DataFrame(h)\n",
        "unidays=unidays.values\n"
      ],
      "execution_count": 291,
      "outputs": []
    },
    {
      "cell_type": "code",
      "metadata": {
        "id": "4Gx3_qLxoGGX",
        "colab": {
          "base_uri": "https://localhost:8080/"
        },
        "outputId": "84db6797-371e-44ad-fe20-41a1fadec727"
      },
      "source": [
        "temp =[]\n",
        "j=int(input())\n",
        "for i in range(23082):\n",
        "  if np.array_equal(unidays[j],dates[i])==True:\n",
        "    y= x[i]\n",
        "    temp.append(y)\n"
      ],
      "execution_count": 292,
      "outputs": [
        {
          "name": "stdout",
          "output_type": "stream",
          "text": [
            "6\n"
          ]
        }
      ]
    },
    {
      "cell_type": "code",
      "metadata": {
        "id": "Zl-uAKeydfc4",
        "colab": {
          "base_uri": "https://localhost:8080/",
          "height": 287
        },
        "outputId": "876d5f2d-9765-412b-fafb-6c14e50a66ff"
      },
      "source": [
        "day1= pd.DataFrame(temp)\n",
        "avg_var=day1.iloc[:,2]\n",
        "time=day1.iloc[:,1]\n",
        "plt.figure(figsize=(20,20))\n",
        "plt.subplot(411)\n",
        "plt.axhline(y=avg_var[4],color='g')\n",
        "plt.axhline(y=avg_var[19],color='r')\n",
        "plt.plot(time,avg_var, color='blue', label='Tata Steel')\n",
        "plt.axvline(x=4)\n",
        "plt.axvline(x=19)\n",
        "plt.axvline(x=34)"
      ],
      "execution_count": 293,
      "outputs": [
        {
          "output_type": "execute_result",
          "data": {
            "text/plain": [
              "<matplotlib.lines.Line2D at 0x7eff2829f850>"
            ]
          },
          "metadata": {},
          "execution_count": 293
        },
        {
          "output_type": "display_data",
          "data": {
            "image/png": "[encoded data removed]",
            "text/plain": [
              "<Figure size 1440x1440 with 1 Axes>"
            ]
          },
          "metadata": {
            "needs_background": "light"
          }
        }
      ]
    },
    {
      "cell_type": "code",
      "metadata": {
        "colab": {
          "base_uri": "https://localhost:8080/"
        },
        "id": "Kwr_icsV5VKe",
        "outputId": "d69d0402-de1e-48e2-bdec-0ec0b644c682"
      },
      "source": [
        "x[0][2]"
      ],
      "execution_count": 294,
      "outputs": [
        {
          "output_type": "execute_result",
          "data": {
            "text/plain": [
              "30794"
            ]
          },
          "metadata": {},
          "execution_count": 294
        }
      ]
    },
    {
      "cell_type": "code",
      "metadata": {
        "id": "AEJ-mvbVZwke"
      },
      "source": [
        "#calculating percent change for all data\n",
        "per_c=[]\n",
        "per_main=[]\n",
        "df2=[]\n",
        "for j in range(616):\n",
        "  for i in range(23082):\n",
        "    if unidays[j]==dates[i]:\n",
        "      per_main.append(x[i][2])\n",
        "    else:\n",
        "      continue\n",
        "  per_c=int(((per_main[4]-per_main[19])/per_main[4])*100)\n",
        "  df2.append(per_c)\n",
        "  per_main=[0]"
      ],
      "execution_count": 295,
      "outputs": []
    },
    {
      "cell_type": "code",
      "metadata": {
        "id": "dDGk-_9P3pyD"
      },
      "source": [
        "per_c2=[]\n",
        "per_main2=[]\n",
        "df3=[]\n",
        "for j in range(616):\n",
        "  for i in range(23082):\n",
        "    if unidays[j]==dates[i]:\n",
        "      per_main2.append(x[i][2])\n",
        "    else:\n",
        "      continue\n",
        "  per_c2=int(((per_main2[1]-per_main2[-3])/per_main2[1])*100)\n",
        "  df3.append(per_c2)\n",
        "  per_main2=[0]\n"
      ],
      "execution_count": 296,
      "outputs": []
    },
    {
      "cell_type": "code",
      "metadata": {
        "id": "hTM_QboBF1T4"
      },
      "source": [
        "volume=[]\n",
        "for j in range(616):\n",
        "  for i in range(23082):\n",
        "    if unidays[j]==dates[i]:\n",
        "      volume.append(vol[j])\n",
        "    else:\n",
        "      continue\n",
        "  if volume[i]>volume[j]:\n",
        "    stre=vol[j]\n",
        "  else:\n",
        "    stre=vol[j]"
      ],
      "execution_count": 301,
      "outputs": []
    },
    {
      "cell_type": "code",
      "metadata": {
        "colab": {
          "base_uri": "https://localhost:8080/"
        },
        "id": "02GAXWvXHw8e",
        "outputId": "d02d3787-8515-4fc0-a969-cf0cbd47a5e4"
      },
      "source": [
        "volume=pd.DataFrame(volume)\n",
        "volume.shape"
      ],
      "execution_count": 302,
      "outputs": [
        {
          "output_type": "execute_result",
          "data": {
            "text/plain": [
              "(23082, 1)"
            ]
          },
          "metadata": {},
          "execution_count": 302
        }
      ]
    },
    {
      "cell_type": "code",
      "metadata": {
        "id": "lTjQyoXisi21"
      },
      "source": [
        "df2=pd.DataFrame(df2)\n",
        "df2=df2.values\n",
        "df3=pd.DataFrame(df3)\n",
        "df3=df3.values"
      ],
      "execution_count": 251,
      "outputs": []
    },
    {
      "cell_type": "code",
      "metadata": {
        "id": "wMtiFqk0ZzmJ"
      },
      "source": [
        "df2=df2.round(2)\n",
        "df3=df3.round(2)"
      ],
      "execution_count": 252,
      "outputs": []
    },
    {
      "cell_type": "code",
      "metadata": {
        "id": "I8IJlQjrL2iD"
      },
      "source": [
        "trend=[]\n",
        "n=[]\n",
        "a=float(0.0)\n",
        "b=float(2.0)\n",
        "c=float(-1.0)\n",
        "d=float(-2.0)\n",
        "e=float(-6.0)\n",
        "f=float(6.0)\n",
        "for i in range(616):\n",
        "  if df2[i]<=f and df2[i]>=a:\n",
        "    trend.append(0)\n",
        "    n.append(df2[i])\n",
        "  elif df2[i]<a and df2[i]>=e:\n",
        "    trend.append(1)\n",
        "    n.append(df2[i])\n"
      ],
      "execution_count": 253,
      "outputs": []
    },
    {
      "cell_type": "code",
      "metadata": {
        "id": "8yI7oJyLaCLi"
      },
      "source": [
        "trend=pd.DataFrame(trend)\n",
        "df2= pd.DataFrame(df2)\n",
        "df3=pd.DataFrame(df3)\n",
        "unidays= pd.DataFrame(unidays)"
      ],
      "execution_count": 254,
      "outputs": []
    },
    {
      "cell_type": "code",
      "metadata": {
        "id": "UKW14ohQWnGC"
      },
      "source": [
        "#creating data_frame to train the model\n",
        "\n",
        "input_df= pd.DataFrame() \n",
        "\n",
        "input_df['Date']= unidays.iloc[:,0]\n",
        "input_df['Per_change']=df2.iloc[:,0]\n",
        "input_df['Day_change']=df3\n",
        "input_df['Trend']= trend.iloc[:,0]\n",
        "volume=df['Volume']\n",
        "input_df['Volume']=volume"
      ],
      "execution_count": 255,
      "outputs": []
    },
    {
      "cell_type": "code",
      "metadata": {
        "colab": {
          "base_uri": "https://localhost:8080/",
          "height": 417
        },
        "id": "3bOFsgqnNr3h",
        "outputId": "d600ec09-fe29-4f7b-bc6c-d3b6ee1c1fe9"
      },
      "source": [
        "input_df=input_df.iloc[:,1:]\n",
        "input_df"
      ],
      "execution_count": 256,
      "outputs": [
        {
          "output_type": "execute_result",
          "data": {
            "text/html": [
              "<div>\n",
              "<style scoped>\n",
              "    .dataframe tbody tr th:only-of-type {\n",
              "        vertical-align: middle;\n",
              "    }\n",
              "\n",
              "    .dataframe tbody tr th {\n",
              "        vertical-align: top;\n",
              "    }\n",
              "\n",
              "    .dataframe thead th {\n",
              "        text-align: right;\n",
              "    }\n",
              "</style>\n",
              "<table border=\"1\" class=\"dataframe\">\n",
              "  <thead>\n",
              "    <tr style=\"text-align: right;\">\n",
              "      <th></th>\n",
              "      <th>Per_change</th>\n",
              "      <th>Day_change</th>\n",
              "      <th>Trend</th>\n",
              "      <th>Volume</th>\n",
              "    </tr>\n",
              "  </thead>\n",
              "  <tbody>\n",
              "    <tr>\n",
              "      <th>0</th>\n",
              "      <td>-7</td>\n",
              "      <td>73</td>\n",
              "      <td>0.0</td>\n",
              "      <td>30794.0</td>\n",
              "    </tr>\n",
              "    <tr>\n",
              "      <th>1</th>\n",
              "      <td>-62</td>\n",
              "      <td>-77</td>\n",
              "      <td>1.0</td>\n",
              "      <td>NaN</td>\n",
              "    </tr>\n",
              "    <tr>\n",
              "      <th>2</th>\n",
              "      <td>94</td>\n",
              "      <td>-40</td>\n",
              "      <td>1.0</td>\n",
              "      <td>NaN</td>\n",
              "    </tr>\n",
              "    <tr>\n",
              "      <th>3</th>\n",
              "      <td>16</td>\n",
              "      <td>-103</td>\n",
              "      <td>1.0</td>\n",
              "      <td>NaN</td>\n",
              "    </tr>\n",
              "    <tr>\n",
              "      <th>4</th>\n",
              "      <td>42</td>\n",
              "      <td>69</td>\n",
              "      <td>0.0</td>\n",
              "      <td>NaN</td>\n",
              "    </tr>\n",
              "    <tr>\n",
              "      <th>...</th>\n",
              "      <td>...</td>\n",
              "      <td>...</td>\n",
              "      <td>...</td>\n",
              "      <td>...</td>\n",
              "    </tr>\n",
              "    <tr>\n",
              "      <th>611</th>\n",
              "      <td>8</td>\n",
              "      <td>27</td>\n",
              "      <td>NaN</td>\n",
              "      <td>NaN</td>\n",
              "    </tr>\n",
              "    <tr>\n",
              "      <th>612</th>\n",
              "      <td>-10</td>\n",
              "      <td>23</td>\n",
              "      <td>NaN</td>\n",
              "      <td>NaN</td>\n",
              "    </tr>\n",
              "    <tr>\n",
              "      <th>613</th>\n",
              "      <td>36</td>\n",
              "      <td>-15</td>\n",
              "      <td>NaN</td>\n",
              "      <td>NaN</td>\n",
              "    </tr>\n",
              "    <tr>\n",
              "      <th>614</th>\n",
              "      <td>86</td>\n",
              "      <td>-357</td>\n",
              "      <td>NaN</td>\n",
              "      <td>NaN</td>\n",
              "    </tr>\n",
              "    <tr>\n",
              "      <th>615</th>\n",
              "      <td>97</td>\n",
              "      <td>31</td>\n",
              "      <td>NaN</td>\n",
              "      <td>NaN</td>\n",
              "    </tr>\n",
              "  </tbody>\n",
              "</table>\n",
              "<p>616 rows × 4 columns</p>\n",
              "</div>"
            ],
            "text/plain": [
              "     Per_change  Day_change  Trend   Volume\n",
              "0            -7          73    0.0  30794.0\n",
              "1           -62         -77    1.0      NaN\n",
              "2            94         -40    1.0      NaN\n",
              "3            16        -103    1.0      NaN\n",
              "4            42          69    0.0      NaN\n",
              "..          ...         ...    ...      ...\n",
              "611           8          27    NaN      NaN\n",
              "612         -10          23    NaN      NaN\n",
              "613          36         -15    NaN      NaN\n",
              "614          86        -357    NaN      NaN\n",
              "615          97          31    NaN      NaN\n",
              "\n",
              "[616 rows x 4 columns]"
            ]
          },
          "metadata": {},
          "execution_count": 256
        }
      ]
    },
    {
      "cell_type": "code",
      "metadata": {
        "colab": {
          "base_uri": "https://localhost:8080/"
        },
        "id": "qy2YNuoW_5Jj",
        "outputId": "973763ed-f8b7-4cfe-9556-78a13743f790"
      },
      "source": [
        "input_df['Per_change'].unique()"
      ],
      "execution_count": 257,
      "outputs": [
        {
          "output_type": "execute_result",
          "data": {
            "text/plain": [
              "array([    -7,    -62,     94,     16,     42,      6,     20,     68,\n",
              "           82,     65,     62,   -256,     44,   -143,   -315,     75,\n",
              "           85,   -129,     71,     79,     47,     48,   -130,     90,\n",
              "          -52,     22,     57,    -39,   -132,   -224,    -13,     80,\n",
              "           73,     91,     74,     11,     -5,     33,     76,    -24,\n",
              "           -9,     17,     -3,     28,     70,     77,     24,    -74,\n",
              "          -59,     63,    -50,    -55,   -436,     89,     93,     50,\n",
              "           51,    -38,    -25,   -234,     81,     32,     58,     67,\n",
              "           64,   -152,     96,     38,     31,    -28,     84,     53,\n",
              "         -218,   -445,   -178,     69,    -54,     54,     43,   -912,\n",
              "         -531,     78,    -29,     41,     36,     92,    -18,    -31,\n",
              "         -125,     60,     72,   -985,    -15,    -51,     87,     97,\n",
              "           95,   -231,     49,   -255,      7,   -548,   -135,   -434,\n",
              "           -4,   -166,     88,   -171,     83,     66,    -21,     86,\n",
              "         -189,   -142,      8,     45,     59, -22417,     34,     52,\n",
              "            3,   -728,    -67,      5,    -16,    -90,   -269,      4,\n",
              "         -314,   -158,   -207,     26,  -1707,     25,    -78,     15,\n",
              "           37,     -2,   -361,     27,   -217,     56,   -148,   -475,\n",
              "           19,   -164,    -49,    -34,   -147,     18,     39,   -101,\n",
              "         -159,   -176,   -521,     -1,     29,    -36,    -27,   -117,\n",
              "           -8,     46,    -23,     40,     21,     23,     35,   -103,\n",
              "         -245,   -319,   -280,     55,    -57,     30,   -131,   -811,\n",
              "          -87,   -222,   -301,   -111,     61,      0,   -213,    -14,\n",
              "         -288,      9,   -254,   -100,   -122,    -75,    -30,    -56,\n",
              "            1,   -150,   -308,     10,    -12,   -181,   -121,   -259,\n",
              "         -752,   -107,   -172,    -77,    -64,   -114,    -41,    -81,\n",
              "         -297,    -10])"
            ]
          },
          "metadata": {},
          "execution_count": 257
        }
      ]
    },
    {
      "cell_type": "code",
      "metadata": {
        "id": "7HigEvAsU7He"
      },
      "source": [
        "z= input_df.iloc[600:610,:]"
      ],
      "execution_count": 258,
      "outputs": []
    },
    {
      "cell_type": "code",
      "metadata": {
        "colab": {
          "base_uri": "https://localhost:8080/",
          "height": 417
        },
        "id": "VcF8KlRP-VPM",
        "outputId": "9ba506b3-636a-46bb-ea40-62bc5f208ee3"
      },
      "source": [
        "input_df"
      ],
      "execution_count": 259,
      "outputs": [
        {
          "output_type": "execute_result",
          "data": {
            "text/html": [
              "<div>\n",
              "<style scoped>\n",
              "    .dataframe tbody tr th:only-of-type {\n",
              "        vertical-align: middle;\n",
              "    }\n",
              "\n",
              "    .dataframe tbody tr th {\n",
              "        vertical-align: top;\n",
              "    }\n",
              "\n",
              "    .dataframe thead th {\n",
              "        text-align: right;\n",
              "    }\n",
              "</style>\n",
              "<table border=\"1\" class=\"dataframe\">\n",
              "  <thead>\n",
              "    <tr style=\"text-align: right;\">\n",
              "      <th></th>\n",
              "      <th>Per_change</th>\n",
              "      <th>Day_change</th>\n",
              "      <th>Trend</th>\n",
              "      <th>Volume</th>\n",
              "    </tr>\n",
              "  </thead>\n",
              "  <tbody>\n",
              "    <tr>\n",
              "      <th>0</th>\n",
              "      <td>-7</td>\n",
              "      <td>73</td>\n",
              "      <td>0.0</td>\n",
              "      <td>30794.0</td>\n",
              "    </tr>\n",
              "    <tr>\n",
              "      <th>1</th>\n",
              "      <td>-62</td>\n",
              "      <td>-77</td>\n",
              "      <td>1.0</td>\n",
              "      <td>NaN</td>\n",
              "    </tr>\n",
              "    <tr>\n",
              "      <th>2</th>\n",
              "      <td>94</td>\n",
              "      <td>-40</td>\n",
              "      <td>1.0</td>\n",
              "      <td>NaN</td>\n",
              "    </tr>\n",
              "    <tr>\n",
              "      <th>3</th>\n",
              "      <td>16</td>\n",
              "      <td>-103</td>\n",
              "      <td>1.0</td>\n",
              "      <td>NaN</td>\n",
              "    </tr>\n",
              "    <tr>\n",
              "      <th>4</th>\n",
              "      <td>42</td>\n",
              "      <td>69</td>\n",
              "      <td>0.0</td>\n",
              "      <td>NaN</td>\n",
              "    </tr>\n",
              "    <tr>\n",
              "      <th>...</th>\n",
              "      <td>...</td>\n",
              "      <td>...</td>\n",
              "      <td>...</td>\n",
              "      <td>...</td>\n",
              "    </tr>\n",
              "    <tr>\n",
              "      <th>611</th>\n",
              "      <td>8</td>\n",
              "      <td>27</td>\n",
              "      <td>NaN</td>\n",
              "      <td>NaN</td>\n",
              "    </tr>\n",
              "    <tr>\n",
              "      <th>612</th>\n",
              "      <td>-10</td>\n",
              "      <td>23</td>\n",
              "      <td>NaN</td>\n",
              "      <td>NaN</td>\n",
              "    </tr>\n",
              "    <tr>\n",
              "      <th>613</th>\n",
              "      <td>36</td>\n",
              "      <td>-15</td>\n",
              "      <td>NaN</td>\n",
              "      <td>NaN</td>\n",
              "    </tr>\n",
              "    <tr>\n",
              "      <th>614</th>\n",
              "      <td>86</td>\n",
              "      <td>-357</td>\n",
              "      <td>NaN</td>\n",
              "      <td>NaN</td>\n",
              "    </tr>\n",
              "    <tr>\n",
              "      <th>615</th>\n",
              "      <td>97</td>\n",
              "      <td>31</td>\n",
              "      <td>NaN</td>\n",
              "      <td>NaN</td>\n",
              "    </tr>\n",
              "  </tbody>\n",
              "</table>\n",
              "<p>616 rows × 4 columns</p>\n",
              "</div>"
            ],
            "text/plain": [
              "     Per_change  Day_change  Trend   Volume\n",
              "0            -7          73    0.0  30794.0\n",
              "1           -62         -77    1.0      NaN\n",
              "2            94         -40    1.0      NaN\n",
              "3            16        -103    1.0      NaN\n",
              "4            42          69    0.0      NaN\n",
              "..          ...         ...    ...      ...\n",
              "611           8          27    NaN      NaN\n",
              "612         -10          23    NaN      NaN\n",
              "613          36         -15    NaN      NaN\n",
              "614          86        -357    NaN      NaN\n",
              "615          97          31    NaN      NaN\n",
              "\n",
              "[616 rows x 4 columns]"
            ]
          },
          "metadata": {},
          "execution_count": 259
        }
      ]
    },
    {
      "cell_type": "code",
      "metadata": {
        "id": "VHYFAsdWVJ_S"
      },
      "source": [
        "#z= z.drop('Trend', axis=1)"
      ],
      "execution_count": 260,
      "outputs": []
    },
    {
      "cell_type": "code",
      "metadata": {
        "id": "lmZpoSm4ghaC"
      },
      "source": [
        "#le=LabelEncoder()\n",
        "#input_df.iloc[:,1]=le.fit_transform(input_df.iloc[:,1])"
      ],
      "execution_count": 261,
      "outputs": []
    },
    {
      "cell_type": "code",
      "metadata": {
        "colab": {
          "base_uri": "https://localhost:8080/"
        },
        "id": "_lHTKWzAfdAS",
        "outputId": "09b33c83-b329-4590-f605-3bb95116ec80"
      },
      "source": [
        "input_df.dtypes"
      ],
      "execution_count": 262,
      "outputs": [
        {
          "output_type": "execute_result",
          "data": {
            "text/plain": [
              "Per_change      int64\n",
              "Day_change      int64\n",
              "Trend         float64\n",
              "Volume        float64\n",
              "dtype: object"
            ]
          },
          "metadata": {},
          "execution_count": 262
        }
      ]
    },
    {
      "cell_type": "code",
      "metadata": {
        "id": "Zg-F9YqKZX1G"
      },
      "source": [
        "X=input_df.iloc[:,0:2].values\n",
        "Y=input_df.iloc[:,2].values"
      ],
      "execution_count": 263,
      "outputs": []
    },
    {
      "cell_type": "code",
      "metadata": {
        "id": "fVcA8I7uZOrS"
      },
      "source": [
        "x_train,x_test,y_train,y_test= train_test_split(X,Y, test_size= 0.4)"
      ],
      "execution_count": 264,
      "outputs": []
    },
    {
      "cell_type": "code",
      "metadata": {
        "colab": {
          "base_uri": "https://localhost:8080/"
        },
        "id": "sT7nGhJgS_Pb",
        "outputId": "19270bde-54a0-441f-8979-4ba907d0de12"
      },
      "source": [
        "b=pd.DataFrame(x_train)\n",
        "b.shape"
      ],
      "execution_count": 265,
      "outputs": [
        {
          "output_type": "execute_result",
          "data": {
            "text/plain": [
              "(369, 2)"
            ]
          },
          "metadata": {},
          "execution_count": 265
        }
      ]
    },
    {
      "cell_type": "code",
      "metadata": {
        "id": "XBSc95aBd3i9"
      },
      "source": [
        "#x_train=x_train.reshape(-1, 1)\n",
        "#y_train=y_train.reshape(-1, 1)\n"
      ],
      "execution_count": 266,
      "outputs": []
    },
    {
      "cell_type": "code",
      "metadata": {
        "id": "bBnkk6R5ZHU4"
      },
      "source": [
        "rfc= RandomForestClassifier(n_estimators=10,criterion='gini',max_depth=5)"
      ],
      "execution_count": 267,
      "outputs": []
    },
    {
      "cell_type": "code",
      "metadata": {
        "colab": {
          "base_uri": "https://localhost:8080/",
          "height": 303
        },
        "id": "l-PtgFGUgOTC",
        "outputId": "f2fc154f-9ffd-410b-e4f5-a21da56d71ac"
      },
      "source": [
        "y=rfc.fit(x_train,y_train)"
      ],
      "execution_count": 268,
      "outputs": [
        {
          "output_type": "error",
          "ename": "ValueError",
          "evalue": "ignored",
          "traceback": [
            "\u001b[0;31m---------------------------------------------------------------------------\u001b[0m",
            "\u001b[0;31mValueError\u001b[0m                                Traceback (most recent call last)",
            "\u001b[0;32m<ipython-input-268-d59dd4f48dda>\u001b[0m in \u001b[0;36m<module>\u001b[0;34m()\u001b[0m\n\u001b[0;32m----> 1\u001b[0;31m \u001b[0my\u001b[0m\u001b[0;34m=\u001b[0m\u001b[0mrfc\u001b[0m\u001b[0;34m.\u001b[0m\u001b[0mfit\u001b[0m\u001b[0;34m(\u001b[0m\u001b[0mx_train\u001b[0m\u001b[0;34m,\u001b[0m\u001b[0my_train\u001b[0m\u001b[0;34m)\u001b[0m\u001b[0;34m\u001b[0m\u001b[0;34m\u001b[0m\u001b[0m\n\u001b[0m",
            "\u001b[0;32m/usr/local/lib/python3.7/dist-packages/sklearn/ensemble/_forest.py\u001b[0m in \u001b[0;36mfit\u001b[0;34m(self, X, y, sample_weight)\u001b[0m\n\u001b[1;32m    294\u001b[0m         \u001b[0;31m# Validate or convert input data\u001b[0m\u001b[0;34m\u001b[0m\u001b[0;34m\u001b[0m\u001b[0;34m\u001b[0m\u001b[0m\n\u001b[1;32m    295\u001b[0m         \u001b[0mX\u001b[0m \u001b[0;34m=\u001b[0m \u001b[0mcheck_array\u001b[0m\u001b[0;34m(\u001b[0m\u001b[0mX\u001b[0m\u001b[0;34m,\u001b[0m \u001b[0maccept_sparse\u001b[0m\u001b[0;34m=\u001b[0m\u001b[0;34m\"csc\"\u001b[0m\u001b[0;34m,\u001b[0m \u001b[0mdtype\u001b[0m\u001b[0;34m=\u001b[0m\u001b[0mDTYPE\u001b[0m\u001b[0;34m)\u001b[0m\u001b[0;34m\u001b[0m\u001b[0;34m\u001b[0m\u001b[0m\n\u001b[0;32m--> 296\u001b[0;31m         \u001b[0my\u001b[0m \u001b[0;34m=\u001b[0m \u001b[0mcheck_array\u001b[0m\u001b[0;34m(\u001b[0m\u001b[0my\u001b[0m\u001b[0;34m,\u001b[0m \u001b[0maccept_sparse\u001b[0m\u001b[0;34m=\u001b[0m\u001b[0;34m'csc'\u001b[0m\u001b[0;34m,\u001b[0m \u001b[0mensure_2d\u001b[0m\u001b[0;34m=\u001b[0m\u001b[0;32mFalse\u001b[0m\u001b[0;34m,\u001b[0m \u001b[0mdtype\u001b[0m\u001b[0;34m=\u001b[0m\u001b[0;32mNone\u001b[0m\u001b[0;34m)\u001b[0m\u001b[0;34m\u001b[0m\u001b[0;34m\u001b[0m\u001b[0m\n\u001b[0m\u001b[1;32m    297\u001b[0m         \u001b[0;32mif\u001b[0m \u001b[0msample_weight\u001b[0m \u001b[0;32mis\u001b[0m \u001b[0;32mnot\u001b[0m \u001b[0;32mNone\u001b[0m\u001b[0;34m:\u001b[0m\u001b[0;34m\u001b[0m\u001b[0;34m\u001b[0m\u001b[0m\n\u001b[1;32m    298\u001b[0m             \u001b[0msample_weight\u001b[0m \u001b[0;34m=\u001b[0m \u001b[0m_check_sample_weight\u001b[0m\u001b[0;34m(\u001b[0m\u001b[0msample_weight\u001b[0m\u001b[0;34m,\u001b[0m \u001b[0mX\u001b[0m\u001b[0;34m)\u001b[0m\u001b[0;34m\u001b[0m\u001b[0;34m\u001b[0m\u001b[0m\n",
            "\u001b[0;32m/usr/local/lib/python3.7/dist-packages/sklearn/utils/validation.py\u001b[0m in \u001b[0;36mcheck_array\u001b[0;34m(array, accept_sparse, accept_large_sparse, dtype, order, copy, force_all_finite, ensure_2d, allow_nd, ensure_min_samples, ensure_min_features, warn_on_dtype, estimator)\u001b[0m\n\u001b[1;32m    576\u001b[0m         \u001b[0;32mif\u001b[0m \u001b[0mforce_all_finite\u001b[0m\u001b[0;34m:\u001b[0m\u001b[0;34m\u001b[0m\u001b[0;34m\u001b[0m\u001b[0m\n\u001b[1;32m    577\u001b[0m             _assert_all_finite(array,\n\u001b[0;32m--> 578\u001b[0;31m                                allow_nan=force_all_finite == 'allow-nan')\n\u001b[0m\u001b[1;32m    579\u001b[0m \u001b[0;34m\u001b[0m\u001b[0m\n\u001b[1;32m    580\u001b[0m     \u001b[0;32mif\u001b[0m \u001b[0mensure_min_samples\u001b[0m \u001b[0;34m>\u001b[0m \u001b[0;36m0\u001b[0m\u001b[0;34m:\u001b[0m\u001b[0;34m\u001b[0m\u001b[0;34m\u001b[0m\u001b[0m\n",
            "\u001b[0;32m/usr/local/lib/python3.7/dist-packages/sklearn/utils/validation.py\u001b[0m in \u001b[0;36m_assert_all_finite\u001b[0;34m(X, allow_nan, msg_dtype)\u001b[0m\n\u001b[1;32m     58\u001b[0m                     \u001b[0mmsg_err\u001b[0m\u001b[0;34m.\u001b[0m\u001b[0mformat\u001b[0m\u001b[0;34m\u001b[0m\u001b[0;34m\u001b[0m\u001b[0m\n\u001b[1;32m     59\u001b[0m                     (type_err,\n\u001b[0;32m---> 60\u001b[0;31m                      msg_dtype if msg_dtype is not None else X.dtype)\n\u001b[0m\u001b[1;32m     61\u001b[0m             )\n\u001b[1;32m     62\u001b[0m     \u001b[0;31m# for object dtype data, we only check for NaNs (GH-13254)\u001b[0m\u001b[0;34m\u001b[0m\u001b[0;34m\u001b[0m\u001b[0;34m\u001b[0m\u001b[0m\n",
            "\u001b[0;31mValueError\u001b[0m: Input contains NaN, infinity or a value too large for dtype('float64')."
          ]
        }
      ]
    },
    {
      "cell_type": "code",
      "metadata": {
        "id": "3AJ0pU9FUpk3"
      },
      "source": [
        "z= rfc.predict(x_test)"
      ],
      "execution_count": null,
      "outputs": []
    },
    {
      "cell_type": "code",
      "metadata": {
        "id": "nt27Ivp1cF4a"
      },
      "source": [
        "score=accuracy_score(z,y_test)\n",
        "print(score)"
      ],
      "execution_count": null,
      "outputs": []
    },
    {
      "cell_type": "code",
      "metadata": {
        "id": "CZ9Xe6yYm5hu"
      },
      "source": [
        "report=classification_report(z,y_test)\n",
        "print(report)"
      ],
      "execution_count": null,
      "outputs": []
    },
    {
      "cell_type": "code",
      "metadata": {
        "id": "MB0-EkNlm-FS"
      },
      "source": [
        "from sklearn.linear_model import LogisticRegression"
      ],
      "execution_count": null,
      "outputs": []
    },
    {
      "cell_type": "code",
      "metadata": {
        "id": "TcNjBJxyoYCu"
      },
      "source": [
        "clf=LogisticRegression\n"
      ],
      "execution_count": null,
      "outputs": []
    },
    {
      "cell_type": "code",
      "metadata": {
        "id": "AP30Ykpzod6b"
      },
      "source": [
        "clf.fit(x_train,y_train)"
      ],
      "execution_count": null,
      "outputs": []
    },
    {
      "cell_type": "code",
      "metadata": {
        "id": "iGRtauY9pX5t"
      },
      "source": [
        ""
      ],
      "execution_count": null,
      "outputs": []
    }
  ]
}