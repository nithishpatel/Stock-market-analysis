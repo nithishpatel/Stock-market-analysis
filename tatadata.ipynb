{
  "nbformat": 4,
  "nbformat_minor": 0,
  "metadata": {
    "colab": {
      "name": "tatadata.ipynb",
      "provenance": [],
      "authorship_tag": "ABX9TyPfP99qlri/PkPzuzFWWeaL",
      "include_colab_link": true
    },
    "kernelspec": {
      "name": "python3",
      "display_name": "Python 3"
    },
    "language_info": {
      "name": "python"
    }
  },
  "cells": [
    {
      "cell_type": "markdown",
      "metadata": {
        "id": "view-in-github",
        "colab_type": "text"
      },
      "source": [
        "<a href=\"https://colab.research.google.com/github/nithishpatel/Stock-market-analysis/blob/main/tatadata.ipynb\" target=\"_parent\"><img src=\"https://colab.research.google.com/assets/colab-badge.svg\" alt=\"Open In Colab\"/></a>"
      ]
    },
    {
      "cell_type": "code",
      "metadata": {
        "id": "CSsH6M4gKrzT"
      },
      "source": [
        "import numpy as np\n",
        "import pandas as pd\n",
        "import matplotlib.pyplot as plt\n",
        "from sklearn.model_selection import train_test_split\n",
        "from sklearn.ensemble import RandomForestClassifier\n",
        "from sklearn.preprocessing import LabelEncoder\n",
        "import datetime as dt\n",
        "import math \n",
        "from math import acos,degrees"
      ],
      "execution_count": 135,
      "outputs": []
    },
    {
      "cell_type": "code",
      "metadata": {
        "id": "cVLuNP6lK5ph"
      },
      "source": [
        "df= pd.read_csv('tata.csv',encoding = \"ISO-8859-1\")"
      ],
      "execution_count": 136,
      "outputs": []
    },
    {
      "cell_type": "code",
      "metadata": {
        "colab": {
          "base_uri": "https://localhost:8080/",
          "height": 203
        },
        "id": "7GCNdWIJK-Mu",
        "outputId": "49598c94-0540-4b50-c469-7549557d2737"
      },
      "source": [
        "df.head()"
      ],
      "execution_count": 137,
      "outputs": [
        {
          "output_type": "execute_result",
          "data": {
            "text/html": [
              "<div>\n",
              "<style scoped>\n",
              "    .dataframe tbody tr th:only-of-type {\n",
              "        vertical-align: middle;\n",
              "    }\n",
              "\n",
              "    .dataframe tbody tr th {\n",
              "        vertical-align: top;\n",
              "    }\n",
              "\n",
              "    .dataframe thead th {\n",
              "        text-align: right;\n",
              "    }\n",
              "</style>\n",
              "<table border=\"1\" class=\"dataframe\">\n",
              "  <thead>\n",
              "    <tr style=\"text-align: right;\">\n",
              "      <th></th>\n",
              "      <th>scrip</th>\n",
              "      <th>date</th>\n",
              "      <th>time</th>\n",
              "      <th>Open</th>\n",
              "      <th>High</th>\n",
              "      <th>Low</th>\n",
              "      <th>Close</th>\n",
              "      <th>Volume</th>\n",
              "      <th>Unnamed: 8</th>\n",
              "    </tr>\n",
              "  </thead>\n",
              "  <tbody>\n",
              "    <tr>\n",
              "      <th>0</th>\n",
              "      <td>TATASTEEL</td>\n",
              "      <td>24-06-2013</td>\n",
              "      <td>9:20</td>\n",
              "      <td>270.30</td>\n",
              "      <td>270.40</td>\n",
              "      <td>270.10</td>\n",
              "      <td>270.20</td>\n",
              "      <td>30794</td>\n",
              "      <td>NaN</td>\n",
              "    </tr>\n",
              "    <tr>\n",
              "      <th>1</th>\n",
              "      <td>TATASTEEL</td>\n",
              "      <td>24-06-2013</td>\n",
              "      <td>9:21</td>\n",
              "      <td>270.10</td>\n",
              "      <td>270.30</td>\n",
              "      <td>270.05</td>\n",
              "      <td>270.25</td>\n",
              "      <td>31049</td>\n",
              "      <td>NaN</td>\n",
              "    </tr>\n",
              "    <tr>\n",
              "      <th>2</th>\n",
              "      <td>TATASTEEL</td>\n",
              "      <td>24-06-2013</td>\n",
              "      <td>9:22</td>\n",
              "      <td>270.25</td>\n",
              "      <td>270.85</td>\n",
              "      <td>270.25</td>\n",
              "      <td>270.65</td>\n",
              "      <td>15813</td>\n",
              "      <td>NaN</td>\n",
              "    </tr>\n",
              "    <tr>\n",
              "      <th>3</th>\n",
              "      <td>TATASTEEL</td>\n",
              "      <td>24-06-2013</td>\n",
              "      <td>9:23</td>\n",
              "      <td>270.80</td>\n",
              "      <td>271.60</td>\n",
              "      <td>270.25</td>\n",
              "      <td>270.40</td>\n",
              "      <td>32092</td>\n",
              "      <td>NaN</td>\n",
              "    </tr>\n",
              "    <tr>\n",
              "      <th>4</th>\n",
              "      <td>TATASTEEL</td>\n",
              "      <td>24-06-2013</td>\n",
              "      <td>9:24</td>\n",
              "      <td>270.15</td>\n",
              "      <td>271.10</td>\n",
              "      <td>270.15</td>\n",
              "      <td>271.05</td>\n",
              "      <td>15286</td>\n",
              "      <td>NaN</td>\n",
              "    </tr>\n",
              "  </tbody>\n",
              "</table>\n",
              "</div>"
            ],
            "text/plain": [
              "       scrip        date  time    Open  ...     Low   Close  Volume  Unnamed: 8\n",
              "0  TATASTEEL  24-06-2013  9:20  270.30  ...  270.10  270.20   30794         NaN\n",
              "1  TATASTEEL  24-06-2013  9:21  270.10  ...  270.05  270.25   31049         NaN\n",
              "2  TATASTEEL  24-06-2013  9:22  270.25  ...  270.25  270.65   15813         NaN\n",
              "3  TATASTEEL  24-06-2013  9:23  270.80  ...  270.25  270.40   32092         NaN\n",
              "4  TATASTEEL  24-06-2013  9:24  270.15  ...  270.15  271.05   15286         NaN\n",
              "\n",
              "[5 rows x 9 columns]"
            ]
          },
          "metadata": {},
          "execution_count": 137
        }
      ]
    },
    {
      "cell_type": "code",
      "metadata": {
        "id": "awSOMcCaLFo5"
      },
      "source": [
        "df= df.iloc[::10,1:8]"
      ],
      "execution_count": 138,
      "outputs": []
    },
    {
      "cell_type": "code",
      "metadata": {
        "id": "0ZZ5El8fLE4s"
      },
      "source": [
        "day1_y=df['time'].iloc[0:37]\n",
        "day1_y=day1_y.values"
      ],
      "execution_count": 139,
      "outputs": []
    },
    {
      "cell_type": "code",
      "metadata": {
        "colab": {
          "base_uri": "https://localhost:8080/",
          "height": 203
        },
        "id": "9ONaN7VcMgrb",
        "outputId": "0837f67e-9647-4ff8-c0fc-b77ba9242f38"
      },
      "source": [
        "df.head()"
      ],
      "execution_count": 140,
      "outputs": [
        {
          "output_type": "execute_result",
          "data": {
            "text/html": [
              "<div>\n",
              "<style scoped>\n",
              "    .dataframe tbody tr th:only-of-type {\n",
              "        vertical-align: middle;\n",
              "    }\n",
              "\n",
              "    .dataframe tbody tr th {\n",
              "        vertical-align: top;\n",
              "    }\n",
              "\n",
              "    .dataframe thead th {\n",
              "        text-align: right;\n",
              "    }\n",
              "</style>\n",
              "<table border=\"1\" class=\"dataframe\">\n",
              "  <thead>\n",
              "    <tr style=\"text-align: right;\">\n",
              "      <th></th>\n",
              "      <th>date</th>\n",
              "      <th>time</th>\n",
              "      <th>Open</th>\n",
              "      <th>High</th>\n",
              "      <th>Low</th>\n",
              "      <th>Close</th>\n",
              "      <th>Volume</th>\n",
              "    </tr>\n",
              "  </thead>\n",
              "  <tbody>\n",
              "    <tr>\n",
              "      <th>0</th>\n",
              "      <td>24-06-2013</td>\n",
              "      <td>9:20</td>\n",
              "      <td>270.30</td>\n",
              "      <td>270.4</td>\n",
              "      <td>270.10</td>\n",
              "      <td>270.2</td>\n",
              "      <td>30794</td>\n",
              "    </tr>\n",
              "    <tr>\n",
              "      <th>10</th>\n",
              "      <td>24-06-2013</td>\n",
              "      <td>9:30</td>\n",
              "      <td>271.95</td>\n",
              "      <td>272.6</td>\n",
              "      <td>271.90</td>\n",
              "      <td>272.5</td>\n",
              "      <td>32683</td>\n",
              "    </tr>\n",
              "    <tr>\n",
              "      <th>20</th>\n",
              "      <td>24-06-2013</td>\n",
              "      <td>9:40</td>\n",
              "      <td>272.25</td>\n",
              "      <td>272.7</td>\n",
              "      <td>272.25</td>\n",
              "      <td>272.6</td>\n",
              "      <td>11347</td>\n",
              "    </tr>\n",
              "    <tr>\n",
              "      <th>30</th>\n",
              "      <td>24-06-2013</td>\n",
              "      <td>9:50</td>\n",
              "      <td>274.35</td>\n",
              "      <td>274.6</td>\n",
              "      <td>273.75</td>\n",
              "      <td>273.9</td>\n",
              "      <td>24191</td>\n",
              "    </tr>\n",
              "    <tr>\n",
              "      <th>40</th>\n",
              "      <td>24-06-2013</td>\n",
              "      <td>10:00</td>\n",
              "      <td>273.50</td>\n",
              "      <td>273.7</td>\n",
              "      <td>273.40</td>\n",
              "      <td>273.5</td>\n",
              "      <td>7056</td>\n",
              "    </tr>\n",
              "  </tbody>\n",
              "</table>\n",
              "</div>"
            ],
            "text/plain": [
              "          date   time    Open   High     Low  Close  Volume\n",
              "0   24-06-2013   9:20  270.30  270.4  270.10  270.2   30794\n",
              "10  24-06-2013   9:30  271.95  272.6  271.90  272.5   32683\n",
              "20  24-06-2013   9:40  272.25  272.7  272.25  272.6   11347\n",
              "30  24-06-2013   9:50  274.35  274.6  273.75  273.9   24191\n",
              "40  24-06-2013  10:00  273.50  273.7  273.40  273.5    7056"
            ]
          },
          "metadata": {},
          "execution_count": 140
        }
      ]
    },
    {
      "cell_type": "code",
      "metadata": {
        "id": "meN34qQzWwnC"
      },
      "source": [
        "dates=df.time.str.slice(0,5).astype(str)\n"
      ],
      "execution_count": 141,
      "outputs": []
    },
    {
      "cell_type": "code",
      "metadata": {
        "id": "3HDKRqRmwHep"
      },
      "source": [
        "df['time']=df.date+' '+df.time"
      ],
      "execution_count": 143,
      "outputs": []
    },
    {
      "cell_type": "code",
      "metadata": {
        "id": "NDeA6unFXjQS"
      },
      "source": [
        "df['time']=pd.to_datetime(df['time'])"
      ],
      "execution_count": 144,
      "outputs": []
    },
    {
      "cell_type": "code",
      "metadata": {
        "colab": {
          "base_uri": "https://localhost:8080/",
          "height": 203
        },
        "id": "8zhNd70_LQUm",
        "outputId": "bbba4a89-943e-4e35-923a-0e4507d2123f"
      },
      "source": [
        "avg1=df['Low']\n",
        "avg2=df['High']\n",
        "avg3=(avg1+avg2)/2\n",
        "avg=pd.DataFrame(avg3)\n",
        "avg.head()"
      ],
      "execution_count": 146,
      "outputs": [
        {
          "output_type": "execute_result",
          "data": {
            "text/html": [
              "<div>\n",
              "<style scoped>\n",
              "    .dataframe tbody tr th:only-of-type {\n",
              "        vertical-align: middle;\n",
              "    }\n",
              "\n",
              "    .dataframe tbody tr th {\n",
              "        vertical-align: top;\n",
              "    }\n",
              "\n",
              "    .dataframe thead th {\n",
              "        text-align: right;\n",
              "    }\n",
              "</style>\n",
              "<table border=\"1\" class=\"dataframe\">\n",
              "  <thead>\n",
              "    <tr style=\"text-align: right;\">\n",
              "      <th></th>\n",
              "      <th>0</th>\n",
              "    </tr>\n",
              "  </thead>\n",
              "  <tbody>\n",
              "    <tr>\n",
              "      <th>0</th>\n",
              "      <td>270.250</td>\n",
              "    </tr>\n",
              "    <tr>\n",
              "      <th>10</th>\n",
              "      <td>272.250</td>\n",
              "    </tr>\n",
              "    <tr>\n",
              "      <th>20</th>\n",
              "      <td>272.475</td>\n",
              "    </tr>\n",
              "    <tr>\n",
              "      <th>30</th>\n",
              "      <td>274.175</td>\n",
              "    </tr>\n",
              "    <tr>\n",
              "      <th>40</th>\n",
              "      <td>273.550</td>\n",
              "    </tr>\n",
              "  </tbody>\n",
              "</table>\n",
              "</div>"
            ],
            "text/plain": [
              "          0\n",
              "0   270.250\n",
              "10  272.250\n",
              "20  272.475\n",
              "30  274.175\n",
              "40  273.550"
            ]
          },
          "metadata": {},
          "execution_count": 146
        }
      ]
    },
    {
      "cell_type": "code",
      "metadata": {
        "colab": {
          "base_uri": "https://localhost:8080/",
          "height": 417
        },
        "id": "259teq-6LVMp",
        "outputId": "cf32a976-6f2f-4f43-a0bd-cb7ee00d7441"
      },
      "source": [
        "df['Average']= avg\n",
        "df.head(500)"
      ],
      "execution_count": 147,
      "outputs": [
        {
          "output_type": "execute_result",
          "data": {
            "text/html": [
              "<div>\n",
              "<style scoped>\n",
              "    .dataframe tbody tr th:only-of-type {\n",
              "        vertical-align: middle;\n",
              "    }\n",
              "\n",
              "    .dataframe tbody tr th {\n",
              "        vertical-align: top;\n",
              "    }\n",
              "\n",
              "    .dataframe thead th {\n",
              "        text-align: right;\n",
              "    }\n",
              "</style>\n",
              "<table border=\"1\" class=\"dataframe\">\n",
              "  <thead>\n",
              "    <tr style=\"text-align: right;\">\n",
              "      <th></th>\n",
              "      <th>date</th>\n",
              "      <th>time</th>\n",
              "      <th>Open</th>\n",
              "      <th>High</th>\n",
              "      <th>Low</th>\n",
              "      <th>Close</th>\n",
              "      <th>Volume</th>\n",
              "      <th>Average</th>\n",
              "    </tr>\n",
              "  </thead>\n",
              "  <tbody>\n",
              "    <tr>\n",
              "      <th>0</th>\n",
              "      <td>24-06-2013</td>\n",
              "      <td>2013-06-24 09:20:00</td>\n",
              "      <td>270.30</td>\n",
              "      <td>270.40</td>\n",
              "      <td>270.10</td>\n",
              "      <td>270.20</td>\n",
              "      <td>30794</td>\n",
              "      <td>270.250</td>\n",
              "    </tr>\n",
              "    <tr>\n",
              "      <th>10</th>\n",
              "      <td>24-06-2013</td>\n",
              "      <td>2013-06-24 09:30:00</td>\n",
              "      <td>271.95</td>\n",
              "      <td>272.60</td>\n",
              "      <td>271.90</td>\n",
              "      <td>272.50</td>\n",
              "      <td>32683</td>\n",
              "      <td>272.250</td>\n",
              "    </tr>\n",
              "    <tr>\n",
              "      <th>20</th>\n",
              "      <td>24-06-2013</td>\n",
              "      <td>2013-06-24 09:40:00</td>\n",
              "      <td>272.25</td>\n",
              "      <td>272.70</td>\n",
              "      <td>272.25</td>\n",
              "      <td>272.60</td>\n",
              "      <td>11347</td>\n",
              "      <td>272.475</td>\n",
              "    </tr>\n",
              "    <tr>\n",
              "      <th>30</th>\n",
              "      <td>24-06-2013</td>\n",
              "      <td>2013-06-24 09:50:00</td>\n",
              "      <td>274.35</td>\n",
              "      <td>274.60</td>\n",
              "      <td>273.75</td>\n",
              "      <td>273.90</td>\n",
              "      <td>24191</td>\n",
              "      <td>274.175</td>\n",
              "    </tr>\n",
              "    <tr>\n",
              "      <th>40</th>\n",
              "      <td>24-06-2013</td>\n",
              "      <td>2013-06-24 10:00:00</td>\n",
              "      <td>273.50</td>\n",
              "      <td>273.70</td>\n",
              "      <td>273.40</td>\n",
              "      <td>273.50</td>\n",
              "      <td>7056</td>\n",
              "      <td>273.550</td>\n",
              "    </tr>\n",
              "    <tr>\n",
              "      <th>...</th>\n",
              "      <td>...</td>\n",
              "      <td>...</td>\n",
              "      <td>...</td>\n",
              "      <td>...</td>\n",
              "      <td>...</td>\n",
              "      <td>...</td>\n",
              "      <td>...</td>\n",
              "      <td>...</td>\n",
              "    </tr>\n",
              "    <tr>\n",
              "      <th>4950</th>\n",
              "      <td>18-02-2014</td>\n",
              "      <td>2014-02-18 10:35:00</td>\n",
              "      <td>379.90</td>\n",
              "      <td>380.00</td>\n",
              "      <td>379.65</td>\n",
              "      <td>379.65</td>\n",
              "      <td>5599</td>\n",
              "      <td>379.825</td>\n",
              "    </tr>\n",
              "    <tr>\n",
              "      <th>4960</th>\n",
              "      <td>18-02-2014</td>\n",
              "      <td>2014-02-18 10:45:00</td>\n",
              "      <td>378.80</td>\n",
              "      <td>378.95</td>\n",
              "      <td>378.70</td>\n",
              "      <td>378.75</td>\n",
              "      <td>5674</td>\n",
              "      <td>378.825</td>\n",
              "    </tr>\n",
              "    <tr>\n",
              "      <th>4970</th>\n",
              "      <td>18-02-2014</td>\n",
              "      <td>2014-02-18 10:55:00</td>\n",
              "      <td>379.20</td>\n",
              "      <td>379.25</td>\n",
              "      <td>379.00</td>\n",
              "      <td>379.00</td>\n",
              "      <td>2893</td>\n",
              "      <td>379.125</td>\n",
              "    </tr>\n",
              "    <tr>\n",
              "      <th>4980</th>\n",
              "      <td>18-02-2014</td>\n",
              "      <td>2014-02-18 11:05:00</td>\n",
              "      <td>379.30</td>\n",
              "      <td>379.50</td>\n",
              "      <td>379.20</td>\n",
              "      <td>379.20</td>\n",
              "      <td>4336</td>\n",
              "      <td>379.350</td>\n",
              "    </tr>\n",
              "    <tr>\n",
              "      <th>4990</th>\n",
              "      <td>18-02-2014</td>\n",
              "      <td>2014-02-18 11:15:00</td>\n",
              "      <td>379.45</td>\n",
              "      <td>379.50</td>\n",
              "      <td>379.35</td>\n",
              "      <td>379.40</td>\n",
              "      <td>4597</td>\n",
              "      <td>379.425</td>\n",
              "    </tr>\n",
              "  </tbody>\n",
              "</table>\n",
              "<p>500 rows × 8 columns</p>\n",
              "</div>"
            ],
            "text/plain": [
              "            date                time    Open  ...   Close  Volume  Average\n",
              "0     24-06-2013 2013-06-24 09:20:00  270.30  ...  270.20   30794  270.250\n",
              "10    24-06-2013 2013-06-24 09:30:00  271.95  ...  272.50   32683  272.250\n",
              "20    24-06-2013 2013-06-24 09:40:00  272.25  ...  272.60   11347  272.475\n",
              "30    24-06-2013 2013-06-24 09:50:00  274.35  ...  273.90   24191  274.175\n",
              "40    24-06-2013 2013-06-24 10:00:00  273.50  ...  273.50    7056  273.550\n",
              "...          ...                 ...     ...  ...     ...     ...      ...\n",
              "4950  18-02-2014 2014-02-18 10:35:00  379.90  ...  379.65    5599  379.825\n",
              "4960  18-02-2014 2014-02-18 10:45:00  378.80  ...  378.75    5674  378.825\n",
              "4970  18-02-2014 2014-02-18 10:55:00  379.20  ...  379.00    2893  379.125\n",
              "4980  18-02-2014 2014-02-18 11:05:00  379.30  ...  379.20    4336  379.350\n",
              "4990  18-02-2014 2014-02-18 11:15:00  379.45  ...  379.40    4597  379.425\n",
              "\n",
              "[500 rows x 8 columns]"
            ]
          },
          "metadata": {},
          "execution_count": 147
        }
      ]
    },
    {
      "cell_type": "code",
      "metadata": {
        "id": "pIlnoFIS-bEv"
      },
      "source": [
        "time=df['time']\n",
        "time=pd.DataFrame(time)\n",
        "time=time.values"
      ],
      "execution_count": 148,
      "outputs": []
    },
    {
      "cell_type": "code",
      "metadata": {
        "id": "iB7OYxO7_s7f"
      },
      "source": [
        ""
      ],
      "execution_count": 148,
      "outputs": []
    },
    {
      "cell_type": "code",
      "metadata": {
        "colab": {
          "base_uri": "https://localhost:8080/",
          "height": 447
        },
        "id": "u5sdfREXz6Iu",
        "outputId": "e84e4a55-4cdb-4888-ec61-5b29aab3da15"
      },
      "source": [
        "df=df.set_index(df['time'])\n",
        "df"
      ],
      "execution_count": 149,
      "outputs": [
        {
          "output_type": "execute_result",
          "data": {
            "text/html": [
              "<div>\n",
              "<style scoped>\n",
              "    .dataframe tbody tr th:only-of-type {\n",
              "        vertical-align: middle;\n",
              "    }\n",
              "\n",
              "    .dataframe tbody tr th {\n",
              "        vertical-align: top;\n",
              "    }\n",
              "\n",
              "    .dataframe thead th {\n",
              "        text-align: right;\n",
              "    }\n",
              "</style>\n",
              "<table border=\"1\" class=\"dataframe\">\n",
              "  <thead>\n",
              "    <tr style=\"text-align: right;\">\n",
              "      <th></th>\n",
              "      <th>date</th>\n",
              "      <th>time</th>\n",
              "      <th>Open</th>\n",
              "      <th>High</th>\n",
              "      <th>Low</th>\n",
              "      <th>Close</th>\n",
              "      <th>Volume</th>\n",
              "      <th>Average</th>\n",
              "    </tr>\n",
              "    <tr>\n",
              "      <th>time</th>\n",
              "      <th></th>\n",
              "      <th></th>\n",
              "      <th></th>\n",
              "      <th></th>\n",
              "      <th></th>\n",
              "      <th></th>\n",
              "      <th></th>\n",
              "      <th></th>\n",
              "    </tr>\n",
              "  </thead>\n",
              "  <tbody>\n",
              "    <tr>\n",
              "      <th>2013-06-24 09:20:00</th>\n",
              "      <td>24-06-2013</td>\n",
              "      <td>2013-06-24 09:20:00</td>\n",
              "      <td>270.30</td>\n",
              "      <td>270.40</td>\n",
              "      <td>270.10</td>\n",
              "      <td>270.20</td>\n",
              "      <td>30794</td>\n",
              "      <td>270.250</td>\n",
              "    </tr>\n",
              "    <tr>\n",
              "      <th>2013-06-24 09:30:00</th>\n",
              "      <td>24-06-2013</td>\n",
              "      <td>2013-06-24 09:30:00</td>\n",
              "      <td>271.95</td>\n",
              "      <td>272.60</td>\n",
              "      <td>271.90</td>\n",
              "      <td>272.50</td>\n",
              "      <td>32683</td>\n",
              "      <td>272.250</td>\n",
              "    </tr>\n",
              "    <tr>\n",
              "      <th>2013-06-24 09:40:00</th>\n",
              "      <td>24-06-2013</td>\n",
              "      <td>2013-06-24 09:40:00</td>\n",
              "      <td>272.25</td>\n",
              "      <td>272.70</td>\n",
              "      <td>272.25</td>\n",
              "      <td>272.60</td>\n",
              "      <td>11347</td>\n",
              "      <td>272.475</td>\n",
              "    </tr>\n",
              "    <tr>\n",
              "      <th>2013-06-24 09:50:00</th>\n",
              "      <td>24-06-2013</td>\n",
              "      <td>2013-06-24 09:50:00</td>\n",
              "      <td>274.35</td>\n",
              "      <td>274.60</td>\n",
              "      <td>273.75</td>\n",
              "      <td>273.90</td>\n",
              "      <td>24191</td>\n",
              "      <td>274.175</td>\n",
              "    </tr>\n",
              "    <tr>\n",
              "      <th>2013-06-24 10:00:00</th>\n",
              "      <td>24-06-2013</td>\n",
              "      <td>2013-06-24 10:00:00</td>\n",
              "      <td>273.50</td>\n",
              "      <td>273.70</td>\n",
              "      <td>273.40</td>\n",
              "      <td>273.50</td>\n",
              "      <td>7056</td>\n",
              "      <td>273.550</td>\n",
              "    </tr>\n",
              "    <tr>\n",
              "      <th>...</th>\n",
              "      <td>...</td>\n",
              "      <td>...</td>\n",
              "      <td>...</td>\n",
              "      <td>...</td>\n",
              "      <td>...</td>\n",
              "      <td>...</td>\n",
              "      <td>...</td>\n",
              "      <td>...</td>\n",
              "    </tr>\n",
              "    <tr>\n",
              "      <th>2019-03-29 14:50:00</th>\n",
              "      <td>29-03-2019</td>\n",
              "      <td>2019-03-29 14:50:00</td>\n",
              "      <td>521.00</td>\n",
              "      <td>521.15</td>\n",
              "      <td>519.95</td>\n",
              "      <td>520.05</td>\n",
              "      <td>94570</td>\n",
              "      <td>520.550</td>\n",
              "    </tr>\n",
              "    <tr>\n",
              "      <th>2019-03-29 15:00:00</th>\n",
              "      <td>29-03-2019</td>\n",
              "      <td>2019-03-29 15:00:00</td>\n",
              "      <td>521.60</td>\n",
              "      <td>522.15</td>\n",
              "      <td>521.60</td>\n",
              "      <td>522.00</td>\n",
              "      <td>37122</td>\n",
              "      <td>521.875</td>\n",
              "    </tr>\n",
              "    <tr>\n",
              "      <th>2019-03-29 15:10:00</th>\n",
              "      <td>29-03-2019</td>\n",
              "      <td>2019-03-29 15:10:00</td>\n",
              "      <td>520.60</td>\n",
              "      <td>520.90</td>\n",
              "      <td>520.50</td>\n",
              "      <td>520.70</td>\n",
              "      <td>37688</td>\n",
              "      <td>520.700</td>\n",
              "    </tr>\n",
              "    <tr>\n",
              "      <th>2019-03-29 15:20:00</th>\n",
              "      <td>29-03-2019</td>\n",
              "      <td>2019-03-29 15:20:00</td>\n",
              "      <td>520.15</td>\n",
              "      <td>520.25</td>\n",
              "      <td>519.70</td>\n",
              "      <td>520.00</td>\n",
              "      <td>63984</td>\n",
              "      <td>519.975</td>\n",
              "    </tr>\n",
              "    <tr>\n",
              "      <th>2019-03-29 15:30:00</th>\n",
              "      <td>29-03-2019</td>\n",
              "      <td>2019-03-29 15:30:00</td>\n",
              "      <td>519.70</td>\n",
              "      <td>520.50</td>\n",
              "      <td>518.50</td>\n",
              "      <td>520.50</td>\n",
              "      <td>47406</td>\n",
              "      <td>519.500</td>\n",
              "    </tr>\n",
              "  </tbody>\n",
              "</table>\n",
              "<p>23082 rows × 8 columns</p>\n",
              "</div>"
            ],
            "text/plain": [
              "                           date                time  ...  Volume  Average\n",
              "time                                                 ...                 \n",
              "2013-06-24 09:20:00  24-06-2013 2013-06-24 09:20:00  ...   30794  270.250\n",
              "2013-06-24 09:30:00  24-06-2013 2013-06-24 09:30:00  ...   32683  272.250\n",
              "2013-06-24 09:40:00  24-06-2013 2013-06-24 09:40:00  ...   11347  272.475\n",
              "2013-06-24 09:50:00  24-06-2013 2013-06-24 09:50:00  ...   24191  274.175\n",
              "2013-06-24 10:00:00  24-06-2013 2013-06-24 10:00:00  ...    7056  273.550\n",
              "...                         ...                 ...  ...     ...      ...\n",
              "2019-03-29 14:50:00  29-03-2019 2019-03-29 14:50:00  ...   94570  520.550\n",
              "2019-03-29 15:00:00  29-03-2019 2019-03-29 15:00:00  ...   37122  521.875\n",
              "2019-03-29 15:10:00  29-03-2019 2019-03-29 15:10:00  ...   37688  520.700\n",
              "2019-03-29 15:20:00  29-03-2019 2019-03-29 15:20:00  ...   63984  519.975\n",
              "2019-03-29 15:30:00  29-03-2019 2019-03-29 15:30:00  ...   47406  519.500\n",
              "\n",
              "[23082 rows x 8 columns]"
            ]
          },
          "metadata": {},
          "execution_count": 149
        }
      ]
    },
    {
      "cell_type": "code",
      "metadata": {
        "id": "VinULheHLqvw"
      },
      "source": [
        "day1=df.loc['2013-06-24']\n",
        "day2=df.loc['2013-06-26']\n",
        "day3=df.loc['2014-03-02']\n",
        "day4=df.loc['2014-04-02']\n",
        "day5=df.loc['2014-06-02']\n",
        "day6=df.loc['2014-10-02']\n",
        "day7=df.loc['2014-02-13']\n",
        "day8=df.loc['2014-02-14']\n",
        "day9=df.loc['2014-02-18']\n",
        "day10=df.loc['2014-02-19']"
      ],
      "execution_count": 150,
      "outputs": []
    },
    {
      "cell_type": "code",
      "metadata": {
        "id": "d0aFFPGqzMX7"
      },
      "source": [
        "day1=day1.iloc[:,7:8].values\n",
        "day2=day2.iloc[:,7:8].values\n",
        "day3=day3.iloc[:,7:8].values\n",
        "day4=day4.iloc[:,7:8].values\n",
        "day5=day5.iloc[:,7:8].values\n",
        "day6=day6.iloc[:,7:8].values\n",
        "day7=day7.iloc[:,7:8].values\n",
        "day8=day8.iloc[:,7:8].values\n",
        "day9=day9.iloc[:,7:8].values\n",
        "day10=day10.iloc[:,7:8].values"
      ],
      "execution_count": 151,
      "outputs": []
    },
    {
      "cell_type": "code",
      "metadata": {
        "colab": {
          "base_uri": "https://localhost:8080/"
        },
        "id": "J9x3cdlyzSI5",
        "outputId": "58079582-180a-4da9-f289-ff8251ab58eb"
      },
      "source": [
        "n=int(input())\n",
        "for i in range(n):\n",
        "  if n==1:\n",
        "    print(((day1[4]-day1[19])/(day1[4]))*100)\n",
        "    break\n",
        "  elif n==2:\n",
        "    print(((day2[4]-day2[19])/(day2[4]))*100)\n",
        "    break\n",
        "  elif n==3:\n",
        "    print(((day3[4]-day3[19])/(day3[4]))*100)\n",
        "    break\n",
        "  elif n==4:\n",
        "    print(((day4[4]-day4[19])/(day4[4]))*100)\n",
        "    break\n",
        "  elif n==5:\n",
        "    print(((day5[4]-day5[19])/(day5[4]))*100)\n",
        "    break\n",
        "  elif n==6:\n",
        "    print(((day6[4]-day6[19])/(day6[4]))*100)\n",
        "    break\n",
        "  elif n==7:\n",
        "    print(((day7[4]-day7[19])/(day7[4]))*100)\n",
        "    break\n",
        "  elif n==8:\n",
        "    print(((day8[4]-day8[19])/(day8[4]))*100)\n",
        "    break\n",
        "  elif n==9:\n",
        "    print(((day9[4]-day9[19])/(day9[4]))*100)\n",
        "    break\n",
        "  elif n==10:\n",
        "    print(((day10[4]-day10[19])/(day10[4]))*100)\n",
        "    break\n",
        "\n"
      ],
      "execution_count": 152,
      "outputs": [
        {
          "output_type": "stream",
          "name": "stdout",
          "text": [
            "5\n",
            "[2.26899945]\n"
          ]
        }
      ]
    },
    {
      "cell_type": "code",
      "metadata": {
        "id": "ivqy2GfUEOwx",
        "colab": {
          "base_uri": "https://localhost:8080/",
          "height": 295
        },
        "outputId": "fd208051-36a6-43a0-accc-be883beae35b"
      },
      "source": [
        "plt.figure(figsize=(20,20))\n",
        "plt.subplot(411)\n",
        "plt.axhline(y=day2[4],color='g')\n",
        "plt.axhline(y=day2[19],color='r')\n",
        "plt.plot(day1_y,day2, color='blue', label='Tata Steel')\n",
        "plt.axvline(x=4)\n",
        "plt.axvline(x=19)"
      ],
      "execution_count": 153,
      "outputs": [
        {
          "output_type": "execute_result",
          "data": {
            "text/plain": [
              "<matplotlib.lines.Line2D at 0x7f83ce2648d0>"
            ]
          },
          "metadata": {},
          "execution_count": 153
        },
        {
          "output_type": "display_data",
          "data": {
            "image/png": "[encoded data removed]",
            "text/plain": [
              "<Figure size 1440x1440 with 1 Axes>"
            ]
          },
          "metadata": {
            "needs_background": "light"
          }
        }
      ]
    },
    {
      "cell_type": "code",
      "metadata": {
        "id": "ip5TOmZBC2Rt"
      },
      "source": [
        ""
      ],
      "execution_count": 153,
      "outputs": []
    }
  ]
}