{
  "nbformat": 4,
  "nbformat_minor": 0,
  "metadata": {
    "colab": {
      "name": "Final_code.ipynb",
      "provenance": [],
      "authorship_tag": "ABX9TyOSGJq0PfSDgalvMAIhkc6g",
      "include_colab_link": true
    },
    "kernelspec": {
      "name": "python3",
      "display_name": "Python 3"
    },
    "language_info": {
      "name": "python"
    }
  },
  "cells": [
    {
      "cell_type": "markdown",
      "metadata": {
        "id": "view-in-github",
        "colab_type": "text"
      },
      "source": [
        "<a href=\"https://colab.research.google.com/github/nithishpatel/Stock-market-analysis/blob/main/Final_code.ipynb\" target=\"_parent\"><img src=\"https://colab.research.google.com/assets/colab-badge.svg\" alt=\"Open In Colab\"/></a>"
      ]
    },
    {
      "cell_type": "code",
      "metadata": {
        "id": "CSsH6M4gKrzT",
        "colab": {
          "base_uri": "https://localhost:8080/"
        },
        "outputId": "8caee640-df68-4967-d109-ae7360bcedc4"
      },
      "source": [
        "import numpy as np\n",
        "import pandas as pd\n",
        "import matplotlib.pyplot as plt\n",
        "import seaborn as sns\n",
        "from sklearn.model_selection import train_test_split\n",
        "from sklearn.ensemble import RandomForestClassifier\n",
        "from sklearn.preprocessing import LabelEncoder\n",
        "import datetime as dt\n",
        "import math \n",
        "import statsmodels.api as sm\n",
        "from sklearn.metrics import classification_report,confusion_matrix,accuracy_score"
      ],
      "execution_count": 1,
      "outputs": [
        {
          "output_type": "stream",
          "name": "stderr",
          "text": [
            "/usr/local/lib/python3.7/dist-packages/statsmodels/tools/_testing.py:19: FutureWarning: pandas.util.testing is deprecated. Use the functions in the public API at pandas.testing instead.\n",
            "  import pandas.util.testing as tm\n"
          ]
        }
      ]
    },
    {
      "cell_type": "code",
      "metadata": {
        "id": "cVLuNP6lK5ph"
      },
      "source": [
        "df= pd.read_csv('tata.csv')"
      ],
      "execution_count": 2,
      "outputs": []
    },
    {
      "cell_type": "code",
      "metadata": {
        "id": "awSOMcCaLFo5"
      },
      "source": [
        "df= df.iloc[::10,1:8]"
      ],
      "execution_count": 3,
      "outputs": []
    },
    {
      "cell_type": "code",
      "metadata": {
        "colab": {
          "base_uri": "https://localhost:8080/",
          "height": 357
        },
        "id": "7GCNdWIJK-Mu",
        "outputId": "7d5bcbdc-3fcc-455b-92e3-a4b2c994735b"
      },
      "source": [
        "df.head(10)"
      ],
      "execution_count": 6,
      "outputs": [
        {
          "output_type": "execute_result",
          "data": {
            "text/html": [
              "<div>\n",
              "<style scoped>\n",
              "    .dataframe tbody tr th:only-of-type {\n",
              "        vertical-align: middle;\n",
              "    }\n",
              "\n",
              "    .dataframe tbody tr th {\n",
              "        vertical-align: top;\n",
              "    }\n",
              "\n",
              "    .dataframe thead th {\n",
              "        text-align: right;\n",
              "    }\n",
              "</style>\n",
              "<table border=\"1\" class=\"dataframe\">\n",
              "  <thead>\n",
              "    <tr style=\"text-align: right;\">\n",
              "      <th></th>\n",
              "      <th>date</th>\n",
              "      <th>time</th>\n",
              "      <th>Open</th>\n",
              "      <th>High</th>\n",
              "      <th>Low</th>\n",
              "      <th>Close</th>\n",
              "      <th>Volume</th>\n",
              "    </tr>\n",
              "  </thead>\n",
              "  <tbody>\n",
              "    <tr>\n",
              "      <th>0</th>\n",
              "      <td>24-06-2013</td>\n",
              "      <td>9:20</td>\n",
              "      <td>270.30</td>\n",
              "      <td>270.4</td>\n",
              "      <td>270.10</td>\n",
              "      <td>270.20</td>\n",
              "      <td>30794</td>\n",
              "    </tr>\n",
              "    <tr>\n",
              "      <th>10</th>\n",
              "      <td>24-06-2013</td>\n",
              "      <td>9:30</td>\n",
              "      <td>271.95</td>\n",
              "      <td>272.6</td>\n",
              "      <td>271.90</td>\n",
              "      <td>272.50</td>\n",
              "      <td>32683</td>\n",
              "    </tr>\n",
              "    <tr>\n",
              "      <th>20</th>\n",
              "      <td>24-06-2013</td>\n",
              "      <td>9:40</td>\n",
              "      <td>272.25</td>\n",
              "      <td>272.7</td>\n",
              "      <td>272.25</td>\n",
              "      <td>272.60</td>\n",
              "      <td>11347</td>\n",
              "    </tr>\n",
              "    <tr>\n",
              "      <th>30</th>\n",
              "      <td>24-06-2013</td>\n",
              "      <td>9:50</td>\n",
              "      <td>274.35</td>\n",
              "      <td>274.6</td>\n",
              "      <td>273.75</td>\n",
              "      <td>273.90</td>\n",
              "      <td>24191</td>\n",
              "    </tr>\n",
              "    <tr>\n",
              "      <th>40</th>\n",
              "      <td>24-06-2013</td>\n",
              "      <td>10:00</td>\n",
              "      <td>273.50</td>\n",
              "      <td>273.7</td>\n",
              "      <td>273.40</td>\n",
              "      <td>273.50</td>\n",
              "      <td>7056</td>\n",
              "    </tr>\n",
              "    <tr>\n",
              "      <th>50</th>\n",
              "      <td>24-06-2013</td>\n",
              "      <td>10:10</td>\n",
              "      <td>273.65</td>\n",
              "      <td>273.9</td>\n",
              "      <td>273.55</td>\n",
              "      <td>273.85</td>\n",
              "      <td>13327</td>\n",
              "    </tr>\n",
              "    <tr>\n",
              "      <th>60</th>\n",
              "      <td>24-06-2013</td>\n",
              "      <td>10:20</td>\n",
              "      <td>273.70</td>\n",
              "      <td>273.8</td>\n",
              "      <td>273.50</td>\n",
              "      <td>273.70</td>\n",
              "      <td>11014</td>\n",
              "    </tr>\n",
              "    <tr>\n",
              "      <th>70</th>\n",
              "      <td>24-06-2013</td>\n",
              "      <td>10:30</td>\n",
              "      <td>273.15</td>\n",
              "      <td>273.5</td>\n",
              "      <td>273.10</td>\n",
              "      <td>273.50</td>\n",
              "      <td>4747</td>\n",
              "    </tr>\n",
              "    <tr>\n",
              "      <th>80</th>\n",
              "      <td>24-06-2013</td>\n",
              "      <td>10:40</td>\n",
              "      <td>273.15</td>\n",
              "      <td>273.4</td>\n",
              "      <td>272.85</td>\n",
              "      <td>272.85</td>\n",
              "      <td>9756</td>\n",
              "    </tr>\n",
              "    <tr>\n",
              "      <th>90</th>\n",
              "      <td>24-06-2013</td>\n",
              "      <td>10:50</td>\n",
              "      <td>274.25</td>\n",
              "      <td>274.9</td>\n",
              "      <td>274.25</td>\n",
              "      <td>274.75</td>\n",
              "      <td>22202</td>\n",
              "    </tr>\n",
              "  </tbody>\n",
              "</table>\n",
              "</div>"
            ],
            "text/plain": [
              "          date   time    Open   High     Low   Close  Volume\n",
              "0   24-06-2013   9:20  270.30  270.4  270.10  270.20   30794\n",
              "10  24-06-2013   9:30  271.95  272.6  271.90  272.50   32683\n",
              "20  24-06-2013   9:40  272.25  272.7  272.25  272.60   11347\n",
              "30  24-06-2013   9:50  274.35  274.6  273.75  273.90   24191\n",
              "40  24-06-2013  10:00  273.50  273.7  273.40  273.50    7056\n",
              "50  24-06-2013  10:10  273.65  273.9  273.55  273.85   13327\n",
              "60  24-06-2013  10:20  273.70  273.8  273.50  273.70   11014\n",
              "70  24-06-2013  10:30  273.15  273.5  273.10  273.50    4747\n",
              "80  24-06-2013  10:40  273.15  273.4  272.85  272.85    9756\n",
              "90  24-06-2013  10:50  274.25  274.9  274.25  274.75   22202"
            ]
          },
          "metadata": {},
          "execution_count": 6
        }
      ]
    },
    {
      "cell_type": "code",
      "metadata": {
        "colab": {
          "base_uri": "https://localhost:8080/",
          "height": 1000
        },
        "id": "ymkxu9bm3wLD",
        "outputId": "39f2f582-5498-4dd0-c1c3-0fccfc3e9609"
      },
      "source": [
        "plt.figure(figsize=(20,25))\n",
        "vol=df.iloc[0:38,6]\n",
        "time=df.iloc[0:38,1]\n",
        "plt.subplot(411)\n",
        "plt.axvline(x=4)\n",
        "plt.axvline(x=19)\n",
        "plt.bar(time,vol)\n",
        "vol=df.iloc[39:75,6]\n",
        "time=df.iloc[39:75,1]\n",
        "plt.subplot(412)\n",
        "plt.axvline(x=3)\n",
        "plt.axvline(x=18)\n",
        "plt.bar(time,vol)\n",
        "vol=df.iloc[76:113,6]\n",
        "time=df.iloc[76:113,1]\n",
        "plt.subplot(413)\n",
        "plt.axvline(x=3)\n",
        "plt.axvline(x=18)\n",
        "plt.bar(time,vol)\n",
        "vol=df.iloc[113:150,6]\n",
        "time=df.iloc[113:150,1]\n",
        "plt.subplot(414)\n",
        "plt.axvline(x=4)\n",
        "plt.axvline(x=19)\n",
        "plt.bar(time,vol)"
      ],
      "execution_count": 5,
      "outputs": [
        {
          "output_type": "execute_result",
          "data": {
            "text/plain": [
              "<BarContainer object of 37 artists>"
            ]
          },
          "metadata": {},
          "execution_count": 5
        },
        {
          "output_type": "display_data",
          "data": {
            "image/png": "[encoded data removed]",
            "text/plain": [
              "<Figure size 1440x1800 with 4 Axes>"
            ]
          },
          "metadata": {
            "needs_background": "light"
          }
        }
      ]
    },
    {
      "cell_type": "markdown",
      "metadata": {
        "id": "kv7S67eUDRq8"
      },
      "source": [
        "## Calculating average values for day Low and High values"
      ]
    },
    {
      "cell_type": "code",
      "metadata": {
        "id": "Ixx2gPsMEl5R"
      },
      "source": [
        "avg1=df['Low']\n",
        "avg2=df['High']\n",
        "avg3=(avg1+avg2)/2\n",
        "avg=pd.DataFrame(avg3)\n",
        "df['Average']= avg.round(2)"
      ],
      "execution_count": 7,
      "outputs": []
    },
    {
      "cell_type": "code",
      "metadata": {
        "id": "89Up2O9wWQV6"
      },
      "source": [
        "volumes=df['Volume']\n",
        "volumes=pd.DataFrame(volumes)\n",
        "times=df['time']\n",
        "times=pd.DataFrame(times)"
      ],
      "execution_count": 8,
      "outputs": []
    },
    {
      "cell_type": "code",
      "metadata": {
        "id": "BV3MrKZ_WxzD"
      },
      "source": [
        "volumes=volumes.iloc[:38,:]\n",
        "times=times.iloc[:38,:]\n",
        "volumes=volumes.astype(str)\n",
        "times=times.astype(str)"
      ],
      "execution_count": 9,
      "outputs": []
    },
    {
      "cell_type": "code",
      "metadata": {
        "colab": {
          "base_uri": "https://localhost:8080/",
          "height": 357
        },
        "id": "sY_mP2I2tn1Y",
        "outputId": "ee4a90fa-a4b7-4d7c-ff3c-8928ecdffa08"
      },
      "source": [
        "df.head(10)"
      ],
      "execution_count": 11,
      "outputs": [
        {
          "output_type": "execute_result",
          "data": {
            "text/html": [
              "<div>\n",
              "<style scoped>\n",
              "    .dataframe tbody tr th:only-of-type {\n",
              "        vertical-align: middle;\n",
              "    }\n",
              "\n",
              "    .dataframe tbody tr th {\n",
              "        vertical-align: top;\n",
              "    }\n",
              "\n",
              "    .dataframe thead th {\n",
              "        text-align: right;\n",
              "    }\n",
              "</style>\n",
              "<table border=\"1\" class=\"dataframe\">\n",
              "  <thead>\n",
              "    <tr style=\"text-align: right;\">\n",
              "      <th></th>\n",
              "      <th>date</th>\n",
              "      <th>time</th>\n",
              "      <th>Open</th>\n",
              "      <th>High</th>\n",
              "      <th>Low</th>\n",
              "      <th>Close</th>\n",
              "      <th>Volume</th>\n",
              "      <th>Average</th>\n",
              "    </tr>\n",
              "  </thead>\n",
              "  <tbody>\n",
              "    <tr>\n",
              "      <th>0</th>\n",
              "      <td>24-06-2013</td>\n",
              "      <td>9:20</td>\n",
              "      <td>270.30</td>\n",
              "      <td>270.4</td>\n",
              "      <td>270.10</td>\n",
              "      <td>270.20</td>\n",
              "      <td>30794</td>\n",
              "      <td>270.25</td>\n",
              "    </tr>\n",
              "    <tr>\n",
              "      <th>10</th>\n",
              "      <td>24-06-2013</td>\n",
              "      <td>9:30</td>\n",
              "      <td>271.95</td>\n",
              "      <td>272.6</td>\n",
              "      <td>271.90</td>\n",
              "      <td>272.50</td>\n",
              "      <td>32683</td>\n",
              "      <td>272.25</td>\n",
              "    </tr>\n",
              "    <tr>\n",
              "      <th>20</th>\n",
              "      <td>24-06-2013</td>\n",
              "      <td>9:40</td>\n",
              "      <td>272.25</td>\n",
              "      <td>272.7</td>\n",
              "      <td>272.25</td>\n",
              "      <td>272.60</td>\n",
              "      <td>11347</td>\n",
              "      <td>272.48</td>\n",
              "    </tr>\n",
              "    <tr>\n",
              "      <th>30</th>\n",
              "      <td>24-06-2013</td>\n",
              "      <td>9:50</td>\n",
              "      <td>274.35</td>\n",
              "      <td>274.6</td>\n",
              "      <td>273.75</td>\n",
              "      <td>273.90</td>\n",
              "      <td>24191</td>\n",
              "      <td>274.18</td>\n",
              "    </tr>\n",
              "    <tr>\n",
              "      <th>40</th>\n",
              "      <td>24-06-2013</td>\n",
              "      <td>10:00</td>\n",
              "      <td>273.50</td>\n",
              "      <td>273.7</td>\n",
              "      <td>273.40</td>\n",
              "      <td>273.50</td>\n",
              "      <td>7056</td>\n",
              "      <td>273.55</td>\n",
              "    </tr>\n",
              "    <tr>\n",
              "      <th>50</th>\n",
              "      <td>24-06-2013</td>\n",
              "      <td>10:10</td>\n",
              "      <td>273.65</td>\n",
              "      <td>273.9</td>\n",
              "      <td>273.55</td>\n",
              "      <td>273.85</td>\n",
              "      <td>13327</td>\n",
              "      <td>273.73</td>\n",
              "    </tr>\n",
              "    <tr>\n",
              "      <th>60</th>\n",
              "      <td>24-06-2013</td>\n",
              "      <td>10:20</td>\n",
              "      <td>273.70</td>\n",
              "      <td>273.8</td>\n",
              "      <td>273.50</td>\n",
              "      <td>273.70</td>\n",
              "      <td>11014</td>\n",
              "      <td>273.65</td>\n",
              "    </tr>\n",
              "    <tr>\n",
              "      <th>70</th>\n",
              "      <td>24-06-2013</td>\n",
              "      <td>10:30</td>\n",
              "      <td>273.15</td>\n",
              "      <td>273.5</td>\n",
              "      <td>273.10</td>\n",
              "      <td>273.50</td>\n",
              "      <td>4747</td>\n",
              "      <td>273.30</td>\n",
              "    </tr>\n",
              "    <tr>\n",
              "      <th>80</th>\n",
              "      <td>24-06-2013</td>\n",
              "      <td>10:40</td>\n",
              "      <td>273.15</td>\n",
              "      <td>273.4</td>\n",
              "      <td>272.85</td>\n",
              "      <td>272.85</td>\n",
              "      <td>9756</td>\n",
              "      <td>273.12</td>\n",
              "    </tr>\n",
              "    <tr>\n",
              "      <th>90</th>\n",
              "      <td>24-06-2013</td>\n",
              "      <td>10:50</td>\n",
              "      <td>274.25</td>\n",
              "      <td>274.9</td>\n",
              "      <td>274.25</td>\n",
              "      <td>274.75</td>\n",
              "      <td>22202</td>\n",
              "      <td>274.58</td>\n",
              "    </tr>\n",
              "  </tbody>\n",
              "</table>\n",
              "</div>"
            ],
            "text/plain": [
              "          date   time    Open   High     Low   Close  Volume  Average\n",
              "0   24-06-2013   9:20  270.30  270.4  270.10  270.20   30794   270.25\n",
              "10  24-06-2013   9:30  271.95  272.6  271.90  272.50   32683   272.25\n",
              "20  24-06-2013   9:40  272.25  272.7  272.25  272.60   11347   272.48\n",
              "30  24-06-2013   9:50  274.35  274.6  273.75  273.90   24191   274.18\n",
              "40  24-06-2013  10:00  273.50  273.7  273.40  273.50    7056   273.55\n",
              "50  24-06-2013  10:10  273.65  273.9  273.55  273.85   13327   273.73\n",
              "60  24-06-2013  10:20  273.70  273.8  273.50  273.70   11014   273.65\n",
              "70  24-06-2013  10:30  273.15  273.5  273.10  273.50    4747   273.30\n",
              "80  24-06-2013  10:40  273.15  273.4  272.85  272.85    9756   273.12\n",
              "90  24-06-2013  10:50  274.25  274.9  274.25  274.75   22202   274.58"
            ]
          },
          "metadata": {},
          "execution_count": 11
        }
      ]
    },
    {
      "cell_type": "code",
      "metadata": {
        "id": "6nenDeAjSNmQ"
      },
      "source": [
        "df=df.drop(['Open','High','Low', 'Close','Volume'], axis=1)"
      ],
      "execution_count": null,
      "outputs": []
    },
    {
      "cell_type": "code",
      "metadata": {
        "id": "yVLWR8NLYtQS"
      },
      "source": [
        "dates=pd.DataFrame(df['date'])"
      ],
      "execution_count": null,
      "outputs": []
    },
    {
      "cell_type": "code",
      "metadata": {
        "id": "3ONETQwBY21G"
      },
      "source": [
        "dates=dates.values\n",
        "x= df.values"
      ],
      "execution_count": null,
      "outputs": []
    },
    {
      "cell_type": "code",
      "metadata": {
        "id": "TBQerLAVdiDD"
      },
      "source": [
        "h=df['date'].unique()\n",
        "unidays=pd.DataFrame(h)\n",
        "unidays=unidays.values"
      ],
      "execution_count": null,
      "outputs": []
    },
    {
      "cell_type": "markdown",
      "metadata": {
        "id": "ttBJPIw6C_id"
      },
      "source": [
        "# Generating Graph for a specified day "
      ]
    },
    {
      "cell_type": "code",
      "metadata": {
        "id": "4Gx3_qLxoGGX",
        "colab": {
          "base_uri": "https://localhost:8080/"
        },
        "outputId": "8aa15622-481e-41b9-a810-0a32bc1d809c"
      },
      "source": [
        "temp =[]\n",
        "j=int(input())\n",
        "for i in range(23082):\n",
        "  if np.array_equal(unidays[j],dates[i])==True:\n",
        "    y= x[i]\n",
        "    temp.append(y)"
      ],
      "execution_count": null,
      "outputs": [
        {
          "name": "stdout",
          "output_type": "stream",
          "text": [
            "5\n"
          ]
        }
      ]
    },
    {
      "cell_type": "code",
      "metadata": {
        "id": "Zl-uAKeydfc4",
        "colab": {
          "base_uri": "https://localhost:8080/",
          "height": 326
        },
        "outputId": "3f97c15f-68b8-403d-906e-e631697788ac"
      },
      "source": [
        "day1= pd.DataFrame(temp)\n",
        "avg_var=day1.iloc[:,2]\n",
        "time=day1.iloc[:,1]\n",
        "plt.figure(figsize=(20,5))\n",
        "plt.axhline(y=avg_var[4],color='g')\n",
        "plt.axhline(y=avg_var[19],color='r')\n",
        "plt.plot(time,avg_var, color='blue', label='Tata Steel')\n",
        "plt.axvline(x=4)\n",
        "plt.axvline(x=19)\n",
        "plt.axvline(x=34)"
      ],
      "execution_count": null,
      "outputs": [
        {
          "output_type": "execute_result",
          "data": {
            "text/plain": [
              "<matplotlib.lines.Line2D at 0x7ff55c456590>"
            ]
          },
          "metadata": {},
          "execution_count": 43
        },
        {
          "output_type": "display_data",
          "data": {
            "image/png": "[encoded data removed]",
            "text/plain": [
              "<Figure size 1440x360 with 1 Axes>"
            ]
          },
          "metadata": {
            "needs_background": "light"
          }
        }
      ]
    },
    {
      "cell_type": "markdown",
      "metadata": {
        "id": "8Fu3EAQgCqrB"
      },
      "source": [
        "## Calculating Percentage change for the mid day of the data ie 10am to 12:30pm"
      ]
    },
    {
      "cell_type": "code",
      "metadata": {
        "id": "AEJ-mvbVZwke"
      },
      "source": [
        "per_c=[]\n",
        "per_main=[]\n",
        "df2=[]\n",
        "for j in range(616):\n",
        "  for i in range(23082):\n",
        "    if unidays[j]==dates[i]:\n",
        "      per_main.append(x[i][2])\n",
        "    else:\n",
        "      continue\n",
        "  per_c=float(((per_main[4]-per_main[19])/per_main[4])*100)\n",
        "  df2.append(per_c)\n",
        "  per_main=[0]"
      ],
      "execution_count": null,
      "outputs": []
    },
    {
      "cell_type": "markdown",
      "metadata": {
        "id": "6X4h0utbC1Om"
      },
      "source": [
        "## Calculating Percentage change for the whole day"
      ]
    },
    {
      "cell_type": "code",
      "metadata": {
        "id": "3bP62aRAaQST"
      },
      "source": [
        "per_c2=[]\n",
        "per_main2=[]\n",
        "df3=[]\n",
        "for j in range(616):\n",
        "  for i in range(23082):\n",
        "    if unidays[j]==dates[i]:\n",
        "      per_main2.append(x[i][2])\n",
        "    else:\n",
        "      continue\n",
        "  per_c2=float(((per_main2[1]-per_main2[-3])/per_main2[1])*100)\n",
        "  df3.append(per_c2)\n",
        "  per_main2=[0]"
      ],
      "execution_count": null,
      "outputs": []
    },
    {
      "cell_type": "code",
      "metadata": {
        "id": "lTjQyoXisi21"
      },
      "source": [
        "df2=pd.DataFrame(df2)\n",
        "df2=df2.values\n",
        "df3=pd.DataFrame(df3)\n",
        "df3=df3.values\n",
        "df2=df2.round(2)\n",
        "df3=df3.round(2)"
      ],
      "execution_count": null,
      "outputs": []
    },
    {
      "cell_type": "markdown",
      "metadata": {
        "id": "KYPfKO5UBsf9"
      },
      "source": [
        "Here trend is represented as\n",
        "\n",
        "**0: Neutral**\n",
        "\n",
        "**1: Bearish**\n",
        "\n",
        "**2:Bullish**\n",
        "\n",
        "**3:Very Bearish**\n",
        "\n",
        "**4:Very Bullish**\n"
      ]
    },
    {
      "cell_type": "code",
      "metadata": {
        "id": "I8IJlQjrL2iD"
      },
      "source": [
        "trend=[]\n",
        "n=[]\n",
        "a=1.0\n",
        "b=2.0\n",
        "c=-1.0\n",
        "d=-2.0\n",
        "e=-6.0\n",
        "f=6.0\n",
        "for i in range(616):\n",
        "  if df2[i]<=a and df2[i]>c:\n",
        "    trend.append(0)\n",
        "    n.append(df2[i])\n",
        "    \n",
        "  elif df2[i]<=b and df2[i]>a:\n",
        "    trend.append(1)\n",
        "    n.append(df2[i])\n",
        "  elif df2[i]<=c and df2[i]>d:\n",
        "    trend.append(2)\n",
        "    n.append(df2[i])\n",
        "  elif df2[i]<=d and df2[i]>=e:\n",
        "    trend.append(3)\n",
        "    n.append(df2[i])\n",
        "  elif df2[i]<=f and df2[i]>b:\n",
        "    trend.append(4)\n",
        "    n.append(df2[i])"
      ],
      "execution_count": null,
      "outputs": []
    },
    {
      "cell_type": "code",
      "metadata": {
        "id": "aGLgGu7Fe0cv"
      },
      "source": [
        "act_trend=[]\n",
        "n=[]\n",
        "a=1.0\n",
        "b=2.0\n",
        "c=-1.0\n",
        "d=-2.0\n",
        "e=-100.0\n",
        "f=100.0\n",
        "for i in range(616):\n",
        "  if df3[i]<=a and df3[i]>c:\n",
        "    act_trend.append(0)\n",
        "    n.append(df3[i])\n",
        "    \n",
        "  elif df3[i]<=b and df3[i]>a:\n",
        "    act_trend.append(1)\n",
        "    n.append(df3[i])\n",
        "  elif df3[i]<=c and df3[i]>d:\n",
        "    act_trend.append(2)\n",
        "    n.append(df3[i])\n",
        "  elif df3[i]<=d and df3[i]>=e:\n",
        "    act_trend.append(3)\n",
        "    n.append(df3[i])\n",
        "  elif df3[i]<=f and df3[i]>b:\n",
        "    act_trend.append(4)\n",
        "    n.append(df3[i])"
      ],
      "execution_count": null,
      "outputs": []
    },
    {
      "cell_type": "code",
      "metadata": {
        "id": "8yI7oJyLaCLi"
      },
      "source": [
        "trend=pd.DataFrame(trend)\n",
        "act_trend=pd.DataFrame(act_trend)\n",
        "df2= pd.DataFrame(df2)\n",
        "unidays= pd.DataFrame(unidays)\n"
      ],
      "execution_count": null,
      "outputs": []
    },
    {
      "cell_type": "markdown",
      "metadata": {
        "id": "4BKMEFrzDwy8"
      },
      "source": [
        "# creating data_frame to train the model\n",
        "\n"
      ]
    },
    {
      "cell_type": "code",
      "metadata": {
        "id": "UKW14ohQWnGC"
      },
      "source": [
        "input_df= pd.DataFrame() \n",
        "\n",
        "input_df['Per_change']=df2.iloc[:,0]\n",
        "input_df['Day_change']=df3\n",
        "input_df['Trend']= trend.iloc[:,0]\n",
        "input_df['act_trend']=act_trend"
      ],
      "execution_count": null,
      "outputs": []
    },
    {
      "cell_type": "code",
      "metadata": {
        "id": "lmZpoSm4ghaC",
        "colab": {
          "base_uri": "https://localhost:8080/",
          "height": 203
        },
        "outputId": "21256b3b-2772-436d-c81c-a016aa766833"
      },
      "source": [
        "input_df.head()"
      ],
      "execution_count": null,
      "outputs": [
        {
          "output_type": "execute_result",
          "data": {
            "text/html": [
              "<div>\n",
              "<style scoped>\n",
              "    .dataframe tbody tr th:only-of-type {\n",
              "        vertical-align: middle;\n",
              "    }\n",
              "\n",
              "    .dataframe tbody tr th {\n",
              "        vertical-align: top;\n",
              "    }\n",
              "\n",
              "    .dataframe thead th {\n",
              "        text-align: right;\n",
              "    }\n",
              "</style>\n",
              "<table border=\"1\" class=\"dataframe\">\n",
              "  <thead>\n",
              "    <tr style=\"text-align: right;\">\n",
              "      <th></th>\n",
              "      <th>Per_change</th>\n",
              "      <th>Day_change</th>\n",
              "      <th>Trend</th>\n",
              "      <th>act_trend</th>\n",
              "    </tr>\n",
              "  </thead>\n",
              "  <tbody>\n",
              "    <tr>\n",
              "      <th>0</th>\n",
              "      <td>0.98</td>\n",
              "      <td>1.58</td>\n",
              "      <td>0</td>\n",
              "      <td>1</td>\n",
              "    </tr>\n",
              "    <tr>\n",
              "      <th>1</th>\n",
              "      <td>0.82</td>\n",
              "      <td>1.17</td>\n",
              "      <td>0</td>\n",
              "      <td>1</td>\n",
              "    </tr>\n",
              "    <tr>\n",
              "      <th>2</th>\n",
              "      <td>1.58</td>\n",
              "      <td>2.52</td>\n",
              "      <td>1</td>\n",
              "      <td>4</td>\n",
              "    </tr>\n",
              "    <tr>\n",
              "      <th>3</th>\n",
              "      <td>0.08</td>\n",
              "      <td>-1.41</td>\n",
              "      <td>0</td>\n",
              "      <td>2</td>\n",
              "    </tr>\n",
              "    <tr>\n",
              "      <th>4</th>\n",
              "      <td>-0.62</td>\n",
              "      <td>-4.04</td>\n",
              "      <td>0</td>\n",
              "      <td>3</td>\n",
              "    </tr>\n",
              "  </tbody>\n",
              "</table>\n",
              "</div>"
            ],
            "text/plain": [
              "   Per_change  Day_change  Trend  act_trend\n",
              "0        0.98        1.58      0          1\n",
              "1        0.82        1.17      0          1\n",
              "2        1.58        2.52      1          4\n",
              "3        0.08       -1.41      0          2\n",
              "4       -0.62       -4.04      0          3"
            ]
          },
          "metadata": {},
          "execution_count": 51
        }
      ]
    },
    {
      "cell_type": "code",
      "metadata": {
        "id": "Zg-F9YqKZX1G"
      },
      "source": [
        "X=input_df.iloc[:,0:3]\n",
        "Y=input_df.iloc[:,3]"
      ],
      "execution_count": null,
      "outputs": []
    },
    {
      "cell_type": "code",
      "metadata": {
        "id": "fVcA8I7uZOrS"
      },
      "source": [
        "X_train,X_test,Y_train,Y_test= train_test_split(X,Y,test_size=0.4,random_state=1)"
      ],
      "execution_count": null,
      "outputs": []
    },
    {
      "cell_type": "code",
      "metadata": {
        "id": "5sT1z9cvzuj2"
      },
      "source": [
        "from sklearn.preprocessing import StandardScaler    \n",
        "st_x= StandardScaler()    \n",
        "X_train= st_x.fit_transform(X_train)    \n",
        "X_test= st_x.transform(X_test)      "
      ],
      "execution_count": null,
      "outputs": []
    },
    {
      "cell_type": "code",
      "metadata": {
        "colab": {
          "base_uri": "https://localhost:8080/"
        },
        "id": "sH2KJzMczdgU",
        "outputId": "230aaa0c-a315-444a-84b5-dc49d401e61b"
      },
      "source": [
        "from sklearn.svm import SVR\n",
        "classifier = SVR(kernel='rbf')  \n",
        "classifier.fit(X_train, Y_train) \n",
        "classifier.score(X_test,Y_test).round(2)"
      ],
      "execution_count": null,
      "outputs": [
        {
          "output_type": "execute_result",
          "data": {
            "text/plain": [
              "0.85"
            ]
          },
          "metadata": {},
          "execution_count": 64
        }
      ]
    },
    {
      "cell_type": "code",
      "metadata": {
        "colab": {
          "base_uri": "https://localhost:8080/"
        },
        "id": "_taKkkiqG1EX",
        "outputId": "f0580880-c26b-4073-da40-38a93bc66846"
      },
      "source": [
        "from sklearn.neural_network import MLPRegressor\n",
        "regr = MLPRegressor(random_state=1, max_iter=1500).fit(X_train, Y_train)\n",
        "regr.score(X_test,Y_test).round(2)"
      ],
      "execution_count": null,
      "outputs": [
        {
          "output_type": "execute_result",
          "data": {
            "text/plain": [
              "0.88"
            ]
          },
          "metadata": {},
          "execution_count": 56
        }
      ]
    },
    {
      "cell_type": "code",
      "metadata": {
        "colab": {
          "base_uri": "https://localhost:8080/",
          "height": 328
        },
        "id": "4kPEcInxIubr",
        "outputId": "a34ef48d-49d1-4855-9293-b5935016498f"
      },
      "source": [
        "df2=pd.DataFrame(df2)\n",
        "df2=df2.values\n",
        "trend=pd.DataFrame(trend)\n",
        "trend=trend.values\n",
        "plt.figure(figsize=(20,10))\n",
        "plt.subplot(2,2,1)\n",
        "plt.title('Predicted trend')\n",
        "plt.xlabel('Percent change')\n",
        "plt.ylabel('Trend')\n",
        "plt.scatter(df2,trend)\n",
        "plt.subplot(2,2,2)\n",
        "plt.scatter(df3,act_trend)\n",
        "plt.title('Actual trend')\n",
        "plt.xlabel('Percent change')\n",
        "plt.ylabel('Trend')"
      ],
      "execution_count": null,
      "outputs": [
        {
          "output_type": "execute_result",
          "data": {
            "text/plain": [
              "Text(0, 0.5, 'Trend')"
            ]
          },
          "metadata": {},
          "execution_count": 57
        },
        {
          "output_type": "display_data",
          "data": {
            "image/png": "[encoded data removed]",
            "text/plain": [
              "<Figure size 1440x720 with 2 Axes>"
            ]
          },
          "metadata": {
            "needs_background": "light"
          }
        }
      ]
    },
    {
      "cell_type": "markdown",
      "metadata": {
        "id": "CromZWdAtauU"
      },
      "source": [
        "Here trend is represented as\n",
        "\n",
        "**0: Neutral**\n",
        "\n",
        "**1: Bearish**\n",
        "\n",
        "**2:Bullish**\n",
        "\n",
        "**3:Very Bearish**\n",
        "\n",
        "**4:Very Bullish**"
      ]
    },
    {
      "cell_type": "code",
      "metadata": {
        "id": "7yVtYIPg0Yjj"
      },
      "source": [
        ""
      ],
      "execution_count": null,
      "outputs": []
    }
  ]
}